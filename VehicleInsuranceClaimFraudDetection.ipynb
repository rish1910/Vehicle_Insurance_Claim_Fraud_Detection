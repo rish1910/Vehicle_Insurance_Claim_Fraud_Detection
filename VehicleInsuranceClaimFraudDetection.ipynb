{
  "nbformat": 4,
  "nbformat_minor": 0,
  "metadata": {
    "colab": {
      "provenance": [],
      "include_colab_link": true
    },
    "kernelspec": {
      "name": "python3",
      "display_name": "Python 3"
    },
    "language_info": {
      "name": "python"
    }
  },
  "cells": [
    {
      "cell_type": "markdown",
      "metadata": {
        "id": "view-in-github",
        "colab_type": "text"
      },
      "source": [
        "<a href=\"https://colab.research.google.com/github/ishitarakchhit/Vehicle-Insurance-Claim-Fraud-Detection/blob/main/VehicleInsuranceClaimFraudDetection.ipynb\" target=\"_parent\"><img src=\"https://colab.research.google.com/assets/colab-badge.svg\" alt=\"Open In Colab\"/></a>"
      ]
    },
    {
      "cell_type": "markdown",
      "source": [
        "### **Exploratory Data Analysis**"
      ],
      "metadata": {
        "id": "2_BulfV3_yLu"
      }
    },
    {
      "cell_type": "code",
      "execution_count": null,
      "metadata": {
        "id": "P_Am-ixeXbxd"
      },
      "outputs": [],
      "source": [
        "#importing libraries for EDA\n",
        "import pandas as pd\n",
        "import numpy as np\n",
        "import matplotlib.pyplot as plt"
      ]
    },
    {
      "cell_type": "code",
      "source": [
        "#reading the dataset\n",
        "!wget https://www.dropbox.com/s/7hx48mghgqlgaq2/fraud_oracle.csv?dl=0\n"
      ],
      "metadata": {
        "id": "Cxl_ozdJX6ZP",
        "colab": {
          "base_uri": "https://localhost:8080/"
        },
        "outputId": "1dff65c1-9168-44c8-eddf-610e2b4cb8bd"
      },
      "execution_count": null,
      "outputs": [
        {
          "output_type": "stream",
          "name": "stdout",
          "text": [
            "--2023-07-25 13:08:51--  https://www.dropbox.com/s/7hx48mghgqlgaq2/fraud_oracle.csv?dl=0\n",
            "Resolving www.dropbox.com (www.dropbox.com)... 162.125.5.18, 2620:100:601d:18::a27d:512\n",
            "Connecting to www.dropbox.com (www.dropbox.com)|162.125.5.18|:443... connected.\n",
            "HTTP request sent, awaiting response... 302 Found\n",
            "Location: /s/raw/7hx48mghgqlgaq2/fraud_oracle.csv [following]\n",
            "--2023-07-25 13:08:51--  https://www.dropbox.com/s/raw/7hx48mghgqlgaq2/fraud_oracle.csv\n",
            "Reusing existing connection to www.dropbox.com:443.\n",
            "HTTP request sent, awaiting response... 302 Found\n",
            "Location: https://ucf04f120ccd9b0775bdd9235c74.dl.dropboxusercontent.com/cd/0/inline/CAiFjAypk8bpmMobrOnacsl1rZ9sKVA3Bo_IknUl493i7g3tX_5OjXro0TYN8hoiaCthZRi5nU6i-7lJdN-fBlr7TuZui_dQyZUnCFQX8tzHGYr3wEFMPnTbbLXY7mj1eQKHjIh6RMNkxtTp1Z8nvU2pbfiKpDutXQ0B2h_r0fy1MA/file# [following]\n",
            "--2023-07-25 13:08:52--  https://ucf04f120ccd9b0775bdd9235c74.dl.dropboxusercontent.com/cd/0/inline/CAiFjAypk8bpmMobrOnacsl1rZ9sKVA3Bo_IknUl493i7g3tX_5OjXro0TYN8hoiaCthZRi5nU6i-7lJdN-fBlr7TuZui_dQyZUnCFQX8tzHGYr3wEFMPnTbbLXY7mj1eQKHjIh6RMNkxtTp1Z8nvU2pbfiKpDutXQ0B2h_r0fy1MA/file\n",
            "Resolving ucf04f120ccd9b0775bdd9235c74.dl.dropboxusercontent.com (ucf04f120ccd9b0775bdd9235c74.dl.dropboxusercontent.com)... 162.125.2.15, 2620:100:601c:15::a27d:60f\n",
            "Connecting to ucf04f120ccd9b0775bdd9235c74.dl.dropboxusercontent.com (ucf04f120ccd9b0775bdd9235c74.dl.dropboxusercontent.com)|162.125.2.15|:443... connected.\n",
            "HTTP request sent, awaiting response... 200 OK\n",
            "Length: 3618564 (3.5M) [text/plain]\n",
            "Saving to: ‘fraud_oracle.csv?dl=0’\n",
            "\n",
            "fraud_oracle.csv?dl 100%[===================>]   3.45M  7.37MB/s    in 0.5s    \n",
            "\n",
            "2023-07-25 13:08:53 (7.37 MB/s) - ‘fraud_oracle.csv?dl=0’ saved [3618564/3618564]\n",
            "\n"
          ]
        }
      ]
    },
    {
      "cell_type": "code",
      "source": [
        "dataset=pd.read_csv(\"fraud_oracle.csv?dl=0\")"
      ],
      "metadata": {
        "id": "8jwnrQnRKx7r"
      },
      "execution_count": null,
      "outputs": []
    },
    {
      "cell_type": "code",
      "source": [
        "#printing first five rows of the dataset\n",
        "dataset.head()"
      ],
      "metadata": {
        "colab": {
          "base_uri": "https://localhost:8080/",
          "height": 300
        },
        "id": "IOZJtTMhYQVP",
        "outputId": "cf704b85-0482-4aa4-e956-fe84e1eba334"
      },
      "execution_count": null,
      "outputs": [
        {
          "output_type": "execute_result",
          "data": {
            "text/plain": [
              "  Month  WeekOfMonth  DayOfWeek    Make AccidentArea DayOfWeekClaimed  \\\n",
              "0   Dec            5  Wednesday   Honda        Urban          Tuesday   \n",
              "1   Jan            3  Wednesday   Honda        Urban           Monday   \n",
              "2   Oct            5     Friday   Honda        Urban         Thursday   \n",
              "3   Jun            2   Saturday  Toyota        Rural           Friday   \n",
              "4   Jan            5     Monday   Honda        Urban          Tuesday   \n",
              "\n",
              "  MonthClaimed  WeekOfMonthClaimed     Sex MaritalStatus  ...  AgeOfVehicle  \\\n",
              "0          Jan                   1  Female        Single  ...       3 years   \n",
              "1          Jan                   4    Male        Single  ...       6 years   \n",
              "2          Nov                   2    Male       Married  ...       7 years   \n",
              "3          Jul                   1    Male       Married  ...   more than 7   \n",
              "4          Feb                   2  Female        Single  ...       5 years   \n",
              "\n",
              "  AgeOfPolicyHolder PoliceReportFiled WitnessPresent AgentType  \\\n",
              "0          26 to 30                No             No  External   \n",
              "1          31 to 35               Yes             No  External   \n",
              "2          41 to 50                No             No  External   \n",
              "3          51 to 65               Yes             No  External   \n",
              "4          31 to 35                No             No  External   \n",
              "\n",
              "   NumberOfSuppliments  AddressChange_Claim  NumberOfCars  Year  BasePolicy  \n",
              "0                 none               1 year        3 to 4  1994   Liability  \n",
              "1                 none            no change     1 vehicle  1994   Collision  \n",
              "2                 none            no change     1 vehicle  1994   Collision  \n",
              "3          more than 5            no change     1 vehicle  1994   Liability  \n",
              "4                 none            no change     1 vehicle  1994   Collision  \n",
              "\n",
              "[5 rows x 33 columns]"
            ],
            "text/html": [
              "\n",
              "\n",
              "  <div id=\"df-d6b11f34-5b30-49d9-abea-03864a3d6b4d\">\n",
              "    <div class=\"colab-df-container\">\n",
              "      <div>\n",
              "<style scoped>\n",
              "    .dataframe tbody tr th:only-of-type {\n",
              "        vertical-align: middle;\n",
              "    }\n",
              "\n",
              "    .dataframe tbody tr th {\n",
              "        vertical-align: top;\n",
              "    }\n",
              "\n",
              "    .dataframe thead th {\n",
              "        text-align: right;\n",
              "    }\n",
              "</style>\n",
              "<table border=\"1\" class=\"dataframe\">\n",
              "  <thead>\n",
              "    <tr style=\"text-align: right;\">\n",
              "      <th></th>\n",
              "      <th>Month</th>\n",
              "      <th>WeekOfMonth</th>\n",
              "      <th>DayOfWeek</th>\n",
              "      <th>Make</th>\n",
              "      <th>AccidentArea</th>\n",
              "      <th>DayOfWeekClaimed</th>\n",
              "      <th>MonthClaimed</th>\n",
              "      <th>WeekOfMonthClaimed</th>\n",
              "      <th>Sex</th>\n",
              "      <th>MaritalStatus</th>\n",
              "      <th>...</th>\n",
              "      <th>AgeOfVehicle</th>\n",
              "      <th>AgeOfPolicyHolder</th>\n",
              "      <th>PoliceReportFiled</th>\n",
              "      <th>WitnessPresent</th>\n",
              "      <th>AgentType</th>\n",
              "      <th>NumberOfSuppliments</th>\n",
              "      <th>AddressChange_Claim</th>\n",
              "      <th>NumberOfCars</th>\n",
              "      <th>Year</th>\n",
              "      <th>BasePolicy</th>\n",
              "    </tr>\n",
              "  </thead>\n",
              "  <tbody>\n",
              "    <tr>\n",
              "      <th>0</th>\n",
              "      <td>Dec</td>\n",
              "      <td>5</td>\n",
              "      <td>Wednesday</td>\n",
              "      <td>Honda</td>\n",
              "      <td>Urban</td>\n",
              "      <td>Tuesday</td>\n",
              "      <td>Jan</td>\n",
              "      <td>1</td>\n",
              "      <td>Female</td>\n",
              "      <td>Single</td>\n",
              "      <td>...</td>\n",
              "      <td>3 years</td>\n",
              "      <td>26 to 30</td>\n",
              "      <td>No</td>\n",
              "      <td>No</td>\n",
              "      <td>External</td>\n",
              "      <td>none</td>\n",
              "      <td>1 year</td>\n",
              "      <td>3 to 4</td>\n",
              "      <td>1994</td>\n",
              "      <td>Liability</td>\n",
              "    </tr>\n",
              "    <tr>\n",
              "      <th>1</th>\n",
              "      <td>Jan</td>\n",
              "      <td>3</td>\n",
              "      <td>Wednesday</td>\n",
              "      <td>Honda</td>\n",
              "      <td>Urban</td>\n",
              "      <td>Monday</td>\n",
              "      <td>Jan</td>\n",
              "      <td>4</td>\n",
              "      <td>Male</td>\n",
              "      <td>Single</td>\n",
              "      <td>...</td>\n",
              "      <td>6 years</td>\n",
              "      <td>31 to 35</td>\n",
              "      <td>Yes</td>\n",
              "      <td>No</td>\n",
              "      <td>External</td>\n",
              "      <td>none</td>\n",
              "      <td>no change</td>\n",
              "      <td>1 vehicle</td>\n",
              "      <td>1994</td>\n",
              "      <td>Collision</td>\n",
              "    </tr>\n",
              "    <tr>\n",
              "      <th>2</th>\n",
              "      <td>Oct</td>\n",
              "      <td>5</td>\n",
              "      <td>Friday</td>\n",
              "      <td>Honda</td>\n",
              "      <td>Urban</td>\n",
              "      <td>Thursday</td>\n",
              "      <td>Nov</td>\n",
              "      <td>2</td>\n",
              "      <td>Male</td>\n",
              "      <td>Married</td>\n",
              "      <td>...</td>\n",
              "      <td>7 years</td>\n",
              "      <td>41 to 50</td>\n",
              "      <td>No</td>\n",
              "      <td>No</td>\n",
              "      <td>External</td>\n",
              "      <td>none</td>\n",
              "      <td>no change</td>\n",
              "      <td>1 vehicle</td>\n",
              "      <td>1994</td>\n",
              "      <td>Collision</td>\n",
              "    </tr>\n",
              "    <tr>\n",
              "      <th>3</th>\n",
              "      <td>Jun</td>\n",
              "      <td>2</td>\n",
              "      <td>Saturday</td>\n",
              "      <td>Toyota</td>\n",
              "      <td>Rural</td>\n",
              "      <td>Friday</td>\n",
              "      <td>Jul</td>\n",
              "      <td>1</td>\n",
              "      <td>Male</td>\n",
              "      <td>Married</td>\n",
              "      <td>...</td>\n",
              "      <td>more than 7</td>\n",
              "      <td>51 to 65</td>\n",
              "      <td>Yes</td>\n",
              "      <td>No</td>\n",
              "      <td>External</td>\n",
              "      <td>more than 5</td>\n",
              "      <td>no change</td>\n",
              "      <td>1 vehicle</td>\n",
              "      <td>1994</td>\n",
              "      <td>Liability</td>\n",
              "    </tr>\n",
              "    <tr>\n",
              "      <th>4</th>\n",
              "      <td>Jan</td>\n",
              "      <td>5</td>\n",
              "      <td>Monday</td>\n",
              "      <td>Honda</td>\n",
              "      <td>Urban</td>\n",
              "      <td>Tuesday</td>\n",
              "      <td>Feb</td>\n",
              "      <td>2</td>\n",
              "      <td>Female</td>\n",
              "      <td>Single</td>\n",
              "      <td>...</td>\n",
              "      <td>5 years</td>\n",
              "      <td>31 to 35</td>\n",
              "      <td>No</td>\n",
              "      <td>No</td>\n",
              "      <td>External</td>\n",
              "      <td>none</td>\n",
              "      <td>no change</td>\n",
              "      <td>1 vehicle</td>\n",
              "      <td>1994</td>\n",
              "      <td>Collision</td>\n",
              "    </tr>\n",
              "  </tbody>\n",
              "</table>\n",
              "<p>5 rows × 33 columns</p>\n",
              "</div>\n",
              "      <button class=\"colab-df-convert\" onclick=\"convertToInteractive('df-d6b11f34-5b30-49d9-abea-03864a3d6b4d')\"\n",
              "              title=\"Convert this dataframe to an interactive table.\"\n",
              "              style=\"display:none;\">\n",
              "\n",
              "  <svg xmlns=\"http://www.w3.org/2000/svg\" height=\"24px\"viewBox=\"0 0 24 24\"\n",
              "       width=\"24px\">\n",
              "    <path d=\"M0 0h24v24H0V0z\" fill=\"none\"/>\n",
              "    <path d=\"M18.56 5.44l.94 2.06.94-2.06 2.06-.94-2.06-.94-.94-2.06-.94 2.06-2.06.94zm-11 1L8.5 8.5l.94-2.06 2.06-.94-2.06-.94L8.5 2.5l-.94 2.06-2.06.94zm10 10l.94 2.06.94-2.06 2.06-.94-2.06-.94-.94-2.06-.94 2.06-2.06.94z\"/><path d=\"M17.41 7.96l-1.37-1.37c-.4-.4-.92-.59-1.43-.59-.52 0-1.04.2-1.43.59L10.3 9.45l-7.72 7.72c-.78.78-.78 2.05 0 2.83L4 21.41c.39.39.9.59 1.41.59.51 0 1.02-.2 1.41-.59l7.78-7.78 2.81-2.81c.8-.78.8-2.07 0-2.86zM5.41 20L4 18.59l7.72-7.72 1.47 1.35L5.41 20z\"/>\n",
              "  </svg>\n",
              "      </button>\n",
              "\n",
              "\n",
              "\n",
              "    <div id=\"df-f85a4de8-7b0f-420d-bf69-8ac51d0f849f\">\n",
              "      <button class=\"colab-df-quickchart\" onclick=\"quickchart('df-f85a4de8-7b0f-420d-bf69-8ac51d0f849f')\"\n",
              "              title=\"Suggest charts.\"\n",
              "              style=\"display:none;\">\n",
              "\n",
              "<svg xmlns=\"http://www.w3.org/2000/svg\" height=\"24px\"viewBox=\"0 0 24 24\"\n",
              "     width=\"24px\">\n",
              "    <g>\n",
              "        <path d=\"M19 3H5c-1.1 0-2 .9-2 2v14c0 1.1.9 2 2 2h14c1.1 0 2-.9 2-2V5c0-1.1-.9-2-2-2zM9 17H7v-7h2v7zm4 0h-2V7h2v10zm4 0h-2v-4h2v4z\"/>\n",
              "    </g>\n",
              "</svg>\n",
              "      </button>\n",
              "    </div>\n",
              "\n",
              "<style>\n",
              "  .colab-df-quickchart {\n",
              "    background-color: #E8F0FE;\n",
              "    border: none;\n",
              "    border-radius: 50%;\n",
              "    cursor: pointer;\n",
              "    display: none;\n",
              "    fill: #1967D2;\n",
              "    height: 32px;\n",
              "    padding: 0 0 0 0;\n",
              "    width: 32px;\n",
              "  }\n",
              "\n",
              "  .colab-df-quickchart:hover {\n",
              "    background-color: #E2EBFA;\n",
              "    box-shadow: 0px 1px 2px rgba(60, 64, 67, 0.3), 0px 1px 3px 1px rgba(60, 64, 67, 0.15);\n",
              "    fill: #174EA6;\n",
              "  }\n",
              "\n",
              "  [theme=dark] .colab-df-quickchart {\n",
              "    background-color: #3B4455;\n",
              "    fill: #D2E3FC;\n",
              "  }\n",
              "\n",
              "  [theme=dark] .colab-df-quickchart:hover {\n",
              "    background-color: #434B5C;\n",
              "    box-shadow: 0px 1px 3px 1px rgba(0, 0, 0, 0.15);\n",
              "    filter: drop-shadow(0px 1px 2px rgba(0, 0, 0, 0.3));\n",
              "    fill: #FFFFFF;\n",
              "  }\n",
              "</style>\n",
              "\n",
              "    <script>\n",
              "      async function quickchart(key) {\n",
              "        const containerElement = document.querySelector('#' + key);\n",
              "        const charts = await google.colab.kernel.invokeFunction(\n",
              "            'suggestCharts', [key], {});\n",
              "      }\n",
              "    </script>\n",
              "\n",
              "      <script>\n",
              "\n",
              "function displayQuickchartButton(domScope) {\n",
              "  let quickchartButtonEl =\n",
              "    domScope.querySelector('#df-f85a4de8-7b0f-420d-bf69-8ac51d0f849f button.colab-df-quickchart');\n",
              "  quickchartButtonEl.style.display =\n",
              "    google.colab.kernel.accessAllowed ? 'block' : 'none';\n",
              "}\n",
              "\n",
              "        displayQuickchartButton(document);\n",
              "      </script>\n",
              "      <style>\n",
              "    .colab-df-container {\n",
              "      display:flex;\n",
              "      flex-wrap:wrap;\n",
              "      gap: 12px;\n",
              "    }\n",
              "\n",
              "    .colab-df-convert {\n",
              "      background-color: #E8F0FE;\n",
              "      border: none;\n",
              "      border-radius: 50%;\n",
              "      cursor: pointer;\n",
              "      display: none;\n",
              "      fill: #1967D2;\n",
              "      height: 32px;\n",
              "      padding: 0 0 0 0;\n",
              "      width: 32px;\n",
              "    }\n",
              "\n",
              "    .colab-df-convert:hover {\n",
              "      background-color: #E2EBFA;\n",
              "      box-shadow: 0px 1px 2px rgba(60, 64, 67, 0.3), 0px 1px 3px 1px rgba(60, 64, 67, 0.15);\n",
              "      fill: #174EA6;\n",
              "    }\n",
              "\n",
              "    [theme=dark] .colab-df-convert {\n",
              "      background-color: #3B4455;\n",
              "      fill: #D2E3FC;\n",
              "    }\n",
              "\n",
              "    [theme=dark] .colab-df-convert:hover {\n",
              "      background-color: #434B5C;\n",
              "      box-shadow: 0px 1px 3px 1px rgba(0, 0, 0, 0.15);\n",
              "      filter: drop-shadow(0px 1px 2px rgba(0, 0, 0, 0.3));\n",
              "      fill: #FFFFFF;\n",
              "    }\n",
              "  </style>\n",
              "\n",
              "      <script>\n",
              "        const buttonEl =\n",
              "          document.querySelector('#df-d6b11f34-5b30-49d9-abea-03864a3d6b4d button.colab-df-convert');\n",
              "        buttonEl.style.display =\n",
              "          google.colab.kernel.accessAllowed ? 'block' : 'none';\n",
              "\n",
              "        async function convertToInteractive(key) {\n",
              "          const element = document.querySelector('#df-d6b11f34-5b30-49d9-abea-03864a3d6b4d');\n",
              "          const dataTable =\n",
              "            await google.colab.kernel.invokeFunction('convertToInteractive',\n",
              "                                                     [key], {});\n",
              "          if (!dataTable) return;\n",
              "\n",
              "          const docLinkHtml = 'Like what you see? Visit the ' +\n",
              "            '<a target=\"_blank\" href=https://colab.research.google.com/notebooks/data_table.ipynb>data table notebook</a>'\n",
              "            + ' to learn more about interactive tables.';\n",
              "          element.innerHTML = '';\n",
              "          dataTable['output_type'] = 'display_data';\n",
              "          await google.colab.output.renderOutput(dataTable, element);\n",
              "          const docLink = document.createElement('div');\n",
              "          docLink.innerHTML = docLinkHtml;\n",
              "          element.appendChild(docLink);\n",
              "        }\n",
              "      </script>\n",
              "    </div>\n",
              "  </div>\n"
            ]
          },
          "metadata": {},
          "execution_count": 5
        }
      ]
    },
    {
      "cell_type": "code",
      "source": [
        "#to find the sum of all missing values in the dataset\n",
        "dataset.isna().sum()"
      ],
      "metadata": {
        "colab": {
          "base_uri": "https://localhost:8080/"
        },
        "id": "KgJtWPlwYcsK",
        "outputId": "b906c7a6-60a0-4b41-e56a-a9963398f37e"
      },
      "execution_count": null,
      "outputs": [
        {
          "output_type": "execute_result",
          "data": {
            "text/plain": [
              "Month                   0\n",
              "WeekOfMonth             0\n",
              "DayOfWeek               0\n",
              "Make                    0\n",
              "AccidentArea            0\n",
              "DayOfWeekClaimed        0\n",
              "MonthClaimed            0\n",
              "WeekOfMonthClaimed      0\n",
              "Sex                     0\n",
              "MaritalStatus           0\n",
              "Age                     0\n",
              "Fault                   0\n",
              "PolicyType              0\n",
              "VehicleCategory         0\n",
              "VehiclePrice            0\n",
              "FraudFound_P            0\n",
              "PolicyNumber            0\n",
              "RepNumber               0\n",
              "Deductible              0\n",
              "DriverRating            0\n",
              "Days_Policy_Accident    0\n",
              "Days_Policy_Claim       0\n",
              "PastNumberOfClaims      0\n",
              "AgeOfVehicle            0\n",
              "AgeOfPolicyHolder       0\n",
              "PoliceReportFiled       0\n",
              "WitnessPresent          0\n",
              "AgentType               0\n",
              "NumberOfSuppliments     0\n",
              "AddressChange_Claim     0\n",
              "NumberOfCars            0\n",
              "Year                    0\n",
              "BasePolicy              0\n",
              "dtype: int64"
            ]
          },
          "metadata": {},
          "execution_count": 6
        }
      ]
    },
    {
      "cell_type": "code",
      "source": [
        "#counting the unique values for every column\n",
        "dataset.nunique()"
      ],
      "metadata": {
        "colab": {
          "base_uri": "https://localhost:8080/"
        },
        "id": "sJlQ4IB47hf9",
        "outputId": "f870adad-d557-456b-da5b-64b5f435087d"
      },
      "execution_count": null,
      "outputs": [
        {
          "output_type": "execute_result",
          "data": {
            "text/plain": [
              "Month                      12\n",
              "WeekOfMonth                 5\n",
              "DayOfWeek                   7\n",
              "Make                       19\n",
              "AccidentArea                2\n",
              "DayOfWeekClaimed            8\n",
              "MonthClaimed               13\n",
              "WeekOfMonthClaimed          5\n",
              "Sex                         2\n",
              "MaritalStatus               4\n",
              "Age                        66\n",
              "Fault                       2\n",
              "PolicyType                  9\n",
              "VehicleCategory             3\n",
              "VehiclePrice                6\n",
              "FraudFound_P                2\n",
              "PolicyNumber            15420\n",
              "RepNumber                  16\n",
              "Deductible                  4\n",
              "DriverRating                4\n",
              "Days_Policy_Accident        5\n",
              "Days_Policy_Claim           4\n",
              "PastNumberOfClaims          4\n",
              "AgeOfVehicle                8\n",
              "AgeOfPolicyHolder           9\n",
              "PoliceReportFiled           2\n",
              "WitnessPresent              2\n",
              "AgentType                   2\n",
              "NumberOfSuppliments         4\n",
              "AddressChange_Claim         5\n",
              "NumberOfCars                5\n",
              "Year                        3\n",
              "BasePolicy                  3\n",
              "dtype: int64"
            ]
          },
          "metadata": {},
          "execution_count": 7
        }
      ]
    },
    {
      "cell_type": "code",
      "source": [
        "#printing total count for fraudulant and non-fraudulant claims\n",
        "print(dataset['FraudFound_P'].value_counts())"
      ],
      "metadata": {
        "colab": {
          "base_uri": "https://localhost:8080/"
        },
        "id": "GvdqK3I-7oLS",
        "outputId": "e04abb15-f59e-445f-ad41-c509509bde50"
      },
      "execution_count": null,
      "outputs": [
        {
          "output_type": "stream",
          "name": "stdout",
          "text": [
            "0    14497\n",
            "1      923\n",
            "Name: FraudFound_P, dtype: int64\n"
          ]
        }
      ]
    },
    {
      "cell_type": "markdown",
      "source": [
        "There are total 923 fraud claims and around 14k genuine claims."
      ],
      "metadata": {
        "id": "bmlTiVRg8ogY"
      }
    },
    {
      "cell_type": "code",
      "source": [
        "#to print the number of unique vehicles present in the dataset\n",
        "print(dataset['Make'].nunique())"
      ],
      "metadata": {
        "colab": {
          "base_uri": "https://localhost:8080/"
        },
        "id": "p74LeSid8RT_",
        "outputId": "31e1c3a3-ffbc-4334-f385-5aa94c1799f7"
      },
      "execution_count": null,
      "outputs": [
        {
          "output_type": "stream",
          "name": "stdout",
          "text": [
            "19\n"
          ]
        }
      ]
    },
    {
      "cell_type": "code",
      "source": [
        "# distribution of claim amounts for both fraudulent claims\n",
        "Y = dataset[dataset['FraudFound_P']== 1]['VehiclePrice']\n",
        "X = dataset[dataset['FraudFound_P'] == 1].index\n",
        "print(Y)\n",
        "plt.bar(Y, X, alpha=0.7)\n",
        "plt.xticks(rotation=45)\n",
        "plt.show()"
      ],
      "metadata": {
        "colab": {
          "base_uri": "https://localhost:8080/",
          "height": 720
        },
        "id": "13Qm3D9r9SEr",
        "outputId": "27d4dbf1-cdfd-4ca5-e71d-80f6f0464319"
      },
      "execution_count": null,
      "outputs": [
        {
          "output_type": "stream",
          "name": "stdout",
          "text": [
            "28       more than 69000\n",
            "52       more than 69000\n",
            "53        20000 to 29000\n",
            "94       more than 69000\n",
            "96        20000 to 29000\n",
            "              ...       \n",
            "15409     20000 to 29000\n",
            "15412     30000 to 39000\n",
            "15415     20000 to 29000\n",
            "15417     20000 to 29000\n",
            "15419     20000 to 29000\n",
            "Name: VehiclePrice, Length: 923, dtype: object\n"
          ]
        },
        {
          "output_type": "display_data",
          "data": {
            "text/plain": [
              "<Figure size 640x480 with 1 Axes>"
            ],
            "image/png": "[encoded data removed]"
          },
          "metadata": {}
        }
      ]
    },
    {
      "cell_type": "code",
      "source": [
        "#varaition of claim frequncy across different vehicle types\n",
        "claim_frequency_by_vehicle_type = dataset.groupby('VehicleCategory')['PolicyNumber'].count().reset_index()\n",
        "claim_frequency_by_vehicle_type.rename(columns={'PolicyNumber': 'ClaimFrequency'}, inplace=True)\n",
        "claim_frequency_by_vehicle_type = claim_frequency_by_vehicle_type.sort_values(by='ClaimFrequency', ascending=False)\n",
        "plt.figure(figsize=(10, 6))\n",
        "plt.bar(claim_frequency_by_vehicle_type['VehicleCategory'], claim_frequency_by_vehicle_type['ClaimFrequency'])\n",
        "plt.xlabel('Vehicle Category')\n",
        "plt.ylabel('Claim Frequency')\n",
        "plt.title('Claim Frequency Across Different Vehicle Categories')\n",
        "plt.xticks(rotation=45)  # Rotate the x-axis labels for better visibility\n",
        "plt.show()"
      ],
      "metadata": {
        "colab": {
          "base_uri": "https://localhost:8080/",
          "height": 591
        },
        "id": "kNs_j1zc-vum",
        "outputId": "438838e6-e702-4c2a-860f-d883fc0c475c"
      },
      "execution_count": null,
      "outputs": [
        {
          "output_type": "display_data",
          "data": {
            "text/plain": [
              "<Figure size 1000x600 with 1 Axes>"
            ],
            "image/png": "[encoded data removed]"
          },
          "metadata": {}
        }
      ]
    },
    {
      "cell_type": "markdown",
      "source": [
        "As we can see that Sedan has the highest number of claim reports. Let's see how many of these reports are non fraudulant"
      ],
      "metadata": {
        "id": "vSKMWuR2D1bL"
      }
    },
    {
      "cell_type": "code",
      "source": [
        "sedan_fraudulent_claims = dataset[(dataset['VehicleCategory'] == 'Sedan') & (dataset['FraudFound_P'] == 1)]\n",
        "print(sedan_fraudulent_claims.value_counts())"
      ],
      "metadata": {
        "colab": {
          "base_uri": "https://localhost:8080/"
        },
        "id": "oxg-ikIFD_tr",
        "outputId": "e6d3f74c-d231-4d6a-d17a-da2d411b948b"
      },
      "execution_count": null,
      "outputs": [
        {
          "output_type": "stream",
          "name": "stdout",
          "text": [
            "Month  WeekOfMonth  DayOfWeek  Make       AccidentArea  DayOfWeekClaimed  MonthClaimed  WeekOfMonthClaimed  Sex   MaritalStatus  Age  Fault          PolicyType          VehicleCategory  VehiclePrice     FraudFound_P  PolicyNumber  RepNumber  Deductible  DriverRating  Days_Policy_Accident  Days_Policy_Claim  PastNumberOfClaims  AgeOfVehicle  AgeOfPolicyHolder  PoliceReportFiled  WitnessPresent  AgentType  NumberOfSuppliments  AddressChange_Claim  NumberOfCars  Year  BasePolicy\n",
            "Apr    1            Friday     Pontiac    Rural         Wednesday         Dec           3                   Male  Married        26   Policy Holder  Sedan - All Perils  Sedan            20000 to 29000   1             2485          6          400         4             more than 30          more than 30       none                7 years       31 to 35           No                 No              External   none                 no change            1 vehicle     1994  All Perils    1\n",
            "Mar    4            Thursday   Chevrolet  Urban         Friday            Apr           1                   Male  Married        52   Policy Holder  Sedan - Collision   Sedan            30000 to 39000   1             2293          10         400         2             more than 30          more than 30       2 to 4              more than 7   41 to 50           No                 No              External   3 to 5               no change            1 vehicle     1994  Collision     1\n",
            "                                                        Wednesday         Apr           1                   Male  Married        31   Policy Holder  Sedan - All Perils  Sedan            20000 to 29000   1             11023         14         400         4             more than 30          more than 30       1                   6 years       31 to 35           No                 No              External   none                 no change            1 vehicle     1995  All Perils    1\n",
            "                               Toyota     Urban         Friday            Mar           4                   Male  Married        73   Policy Holder  Sedan - All Perils  Sedan            less than 20000  1             2272          1          400         3             more than 30          more than 30       none                more than 7   over 65            No                 No              External   none                 no change            1 vehicle     1994  All Perils    1\n",
            "                    Tuesday    Mazda      Urban         Wednesday         Mar           4                   Male  Married        58   Policy Holder  Sedan - Collision   Sedan            20000 to 29000   1             10933         8          400         3             more than 30          more than 30       none                7 years       51 to 65           No                 No              External   none                 no change            1 vehicle     1995  Collision     1\n",
            "                                                                                                                                                                                                                                                                                                                                                                                                                                                                                                   ..\n",
            "Jan    1            Thursday   Toyota     Rural         Thursday          Jan           2                   Male  Married        29   Policy Holder  Sedan - All Perils  Sedan            less than 20000  1             9111          7          400         1             more than 30          more than 30       none                5 years       31 to 35           No                 No              External   none                 no change            1 vehicle     1995  All Perils    1\n",
            "                    Tuesday    Honda      Urban         Wednesday         Jan           4                   Male  Single         28   Policy Holder  Sedan - All Perils  Sedan            more than 69000  1             386           7          400         3             more than 30          more than 30       none                new           31 to 35           No                 No              External   none                 no change            1 vehicle     1994  All Perils    1\n",
            "                               Toyota     Urban         Tuesday           Jan           2                   Male  Single         47   Policy Holder  Sedan - Collision   Sedan            20000 to 29000   1             9071          12         400         1             more than 30          more than 30       none                more than 7   41 to 50           No                 No              External   none                 no change            1 vehicle     1995  Collision     1\n",
            "                    Wednesday  Accura     Urban         Monday            Jan           3                   Male  Married        54   Policy Holder  Sedan - All Perils  Sedan            more than 69000  1             406           7          400         4             more than 30          more than 30       more than 4         more than 7   41 to 50           No                 No              External   3 to 5               no change            1 vehicle     1994  All Perils    1\n",
            "Sep    5            Wednesday  Toyota     Urban         Monday            Oct           3                   Male  Married        43   Policy Holder  Sedan - Collision   Sedan            more than 69000  1             6752          1          400         3             more than 30          more than 30       more than 4         6 years       36 to 40           No                 No              External   more than 5          no change            1 vehicle     1995  Collision     1\n",
            "Length: 795, dtype: int64\n"
          ]
        }
      ]
    },
    {
      "cell_type": "markdown",
      "source": [
        "There are total of 795 fraud claims in Sedan out of 9k claims(approx)"
      ],
      "metadata": {
        "id": "g0E4jJROFP_r"
      }
    },
    {
      "cell_type": "code",
      "source": [
        "sedan_fraudulent_claims = dataset[(dataset['VehicleCategory'] == 'Sport') & (dataset['FraudFound_P'] == 1)]\n",
        "print(sedan_fraudulent_claims.value_counts())"
      ],
      "metadata": {
        "colab": {
          "base_uri": "https://localhost:8080/"
        },
        "id": "qMWzOqIBEX7K",
        "outputId": "0d7a5e05-d157-45be-faca-081de2b868d5"
      },
      "execution_count": null,
      "outputs": [
        {
          "output_type": "stream",
          "name": "stdout",
          "text": [
            "Month  WeekOfMonth  DayOfWeek  Make     AccidentArea  DayOfWeekClaimed  MonthClaimed  WeekOfMonthClaimed  Sex     MaritalStatus  Age  Fault          PolicyType         VehicleCategory  VehiclePrice     FraudFound_P  PolicyNumber  RepNumber  Deductible  DriverRating  Days_Policy_Accident  Days_Policy_Claim  PastNumberOfClaims  AgeOfVehicle  AgeOfPolicyHolder  PoliceReportFiled  WitnessPresent  AgentType  NumberOfSuppliments  AddressChange_Claim  NumberOfCars  Year  BasePolicy\n",
            "Apr    1            Wednesday  Honda    Urban         Thursday          Apr           1                   Male    Single         16   Policy Holder  Sport - Collision  Sport            more than 69000  1             11331         1          400         2             more than 30          more than 30       2 to 4              4 years       18 to 20           No                 No              External   none                 no change            1 vehicle     1995  Collision     1\n",
            "Jun    4            Sunday     Honda    Urban         Tuesday           Oct           4                   Female  Married        40   Policy Holder  Sport - Collision  Sport            more than 69000  1             4717          12         400         2             more than 30          more than 30       2 to 4              6 years       36 to 40           No                 No              External   none                 no change            1 vehicle     1994  Collision     1\n",
            "Mar    2            Saturday   Honda    Urban         Monday            Mar           3                   Male    Married        41   Third Party    Sport - Collision  Sport            more than 69000  1             11374         2          500         1             more than 30          more than 30       2 to 4              7 years       36 to 40           No                 No              External   none                 2 to 3 years         1 vehicle     1996  Collision     1\n",
            "                                        Rural         Monday            Mar           3                   Male    Single         20   Policy Holder  Sport - Collision  Sport            more than 69000  1             1979          3          400         4             more than 30          more than 30       2 to 4              4 years       21 to 25           No                 No              External   none                 no change            1 vehicle     1994  Collision     1\n",
            "                    Monday     Toyota   Urban         Thursday          Mar           2                   Male    Married        50   Policy Holder  Sedan - Liability  Sport            20000 to 29000   1             1862          11         400         3             more than 30          more than 30       2 to 4              more than 7   41 to 50           No                 No              External   more than 5          no change            1 vehicle     1994  Liability     1\n",
            "                                                                                                                                                                                                                                                                                                                                                                                                                                                                                                  ..\n",
            "Feb    3            Thursday   Honda    Urban         Friday            Feb           3                   Male    Married        35   Policy Holder  Sport - Collision  Sport            more than 69000  1             10157         5          400         4             more than 30          more than 30       none                6 years       31 to 35           No                 No              External   none                 no change            1 vehicle     1995  Collision     1\n",
            "                    Sunday     Honda    Urban         Sunday            Feb           3                   Male    Married        63   Policy Holder  Sport - Collision  Sport            more than 69000  1             10223         12         400         1             more than 30          more than 30       none                7 years       51 to 65           No                 No              External   none                 no change            1 vehicle     1995  Collision     1\n",
            "                    Saturday   Pontiac  Urban         Wednesday         Mar           1                   Female  Single         32   Policy Holder  Sedan - Liability  Sport            20000 to 29000   1             1419          16         400         3             more than 30          more than 30       1                   5 years       31 to 35           No                 No              External   none                 no change            1 vehicle     1994  Liability     1\n",
            "       2            Friday     Mazda    Urban         Wednesday         Mar           1                   Male    Single         18   Policy Holder  Sport - Collision  Sport            more than 69000  1             1183          2          400         2             more than 30          more than 30       none                5 years       21 to 25           No                 No              External   more than 5          no change            1 vehicle     1994  Collision     1\n",
            "Sep    4            Friday     Honda    Urban         Tuesday           Sep           4                   Male    Single         32   Policy Holder  Sport - Collision  Sport            more than 69000  1             6604          8          400         1             more than 30          more than 30       none                6 years       31 to 35           No                 No              External   more than 5          no change            1 vehicle     1995  Collision     1\n",
            "Length: 84, dtype: int64\n"
          ]
        }
      ]
    },
    {
      "cell_type": "code",
      "source": [
        "sedan_fraudulent_claims = dataset[(dataset['VehicleCategory'] == 'Utility') & (dataset['FraudFound_P'] == 1)]\n",
        "print(sedan_fraudulent_claims.value_counts())"
      ],
      "metadata": {
        "colab": {
          "base_uri": "https://localhost:8080/"
        },
        "id": "fDlBYABGFioa",
        "outputId": "d7214e5d-dc6e-4ad5-887c-cb40cd9690ad"
      },
      "execution_count": null,
      "outputs": [
        {
          "output_type": "stream",
          "name": "stdout",
          "text": [
            "Month  WeekOfMonth  DayOfWeek  Make       AccidentArea  DayOfWeekClaimed  MonthClaimed  WeekOfMonthClaimed  Sex   MaritalStatus  Age  Fault          PolicyType            VehicleCategory  VehiclePrice     FraudFound_P  PolicyNumber  RepNumber  Deductible  DriverRating  Days_Policy_Accident  Days_Policy_Claim  PastNumberOfClaims  AgeOfVehicle  AgeOfPolicyHolder  PoliceReportFiled  WitnessPresent  AgentType  NumberOfSuppliments  AddressChange_Claim  NumberOfCars  Year  BasePolicy\n",
            "Apr    1            Tuesday    Pontiac    Urban         Thursday          Apr           1                   Male  Married        48   Policy Holder  Utility - All Perils  Utility          more than 69000  1             11290         6          400         1             more than 30          more than 30       1                   7 years       41 to 50           No                 No              External   none                 no change            1 vehicle     1995  All Perils    1\n",
            "Aug    1            Friday     Chevrolet  Rural         Friday            Aug           1                   Male  Single         47   Policy Holder  Utility - Collision   Utility          more than 69000  1             5513          15         400         3             more than 30          more than 30       none                more than 7   41 to 50           No                 No              External   1 to 2               no change            1 vehicle     1994  Collision     1\n",
            "Mar    2            Monday     Ford       Urban         Friday            Apr           1                   Male  Single         29   Policy Holder  Utility - All Perils  Utility          more than 69000  1             1863          11         400         2             more than 30          more than 30       1                   7 years       31 to 35           No                 No              External   more than 5          no change            1 vehicle     1994  All Perils    1\n",
            "       3            Friday     Ford       Rural         Wednesday         Mar           4                   Male  Married        55   Policy Holder  Utility - All Perils  Utility          more than 69000  1             10877         9          400         4             more than 30          more than 30       1                   more than 7   41 to 50           No                 No              External   more than 5          no change            1 vehicle     1995  All Perils    1\n",
            "                    Monday     Accura     Urban         Thursday          Mar           3                   Male  Married        65   Policy Holder  Utility - All Perils  Utility          more than 69000  1             2028          13         400         1             more than 30          more than 30       none                7 years       51 to 65           No                 No              External   none                 no change            1 vehicle     1994  All Perils    1\n",
            "                    Sunday     Accura     Urban         Monday            Mar           3                   Male  Married        26   Policy Holder  Utility - All Perils  Utility          more than 69000  1             10900         13         400         3             more than 30          more than 30       none                7 years       31 to 35           No                 No              External   none                 4 to 8 years         2 vehicles    1995  All Perils    1\n",
            "       4            Friday     Pontiac    Urban         Thursday          Mar           5                   Male  Married        64   Policy Holder  Utility - Collision   Utility          more than 69000  1             11034         8          400         4             more than 30          more than 30       2 to 4              more than 7   51 to 65           No                 No              External   more than 5          no change            1 vehicle     1995  Collision     1\n",
            "       5            Tuesday    Accura     Urban         Wednesday         Apr           1                   Male  Married        34   Policy Holder  Utility - All Perils  Utility          more than 69000  1             11114         4          400         2             more than 30          more than 30       none                5 years       31 to 35           No                 No              External   none                 no change            1 vehicle     1995  All Perils    1\n",
            "May    2            Friday     Pontiac    Urban         Wednesday         Aug           2                   Male  Married        39   Policy Holder  Utility - All Perils  Utility          more than 69000  1             12161         6          400         3             more than 30          more than 30       2 to 4              more than 7   36 to 40           No                 No              External   1 to 2               no change            1 vehicle     1996  All Perils    1\n",
            "                    Wednesday  Accura     Urban         Monday            May           3                   Male  Married        60   Policy Holder  Utility - All Perils  Utility          more than 69000  1             3586          7          400         1             more than 30          more than 30       none                more than 7   51 to 65           No                 No              External   3 to 5               no change            1 vehicle     1994  All Perils    1\n",
            "       5            Monday     Chevrolet  Urban         Wednesday         Jun           1                   Male  Married        37   Policy Holder  Utility - All Perils  Utility          more than 69000  1             4095          3          400         4             more than 30          more than 30       2 to 4              7 years       36 to 40           No                 No              External   none                 no change            1 vehicle     1994  All Perils    1\n",
            "Nov    2            Tuesday    Chevrolet  Rural         Tuesday           Nov           3                   Male  Single         29   Policy Holder  Utility - All Perils  Utility          more than 69000  1             7822          2          400         2             more than 30          more than 30       none                6 years       31 to 35           No                 No              External   none                 no change            1 vehicle     1995  All Perils    1\n",
            "       3            Tuesday    Chevrolet  Urban         Wednesday         Jan           2                   Male  Married        31   Policy Holder  Utility - All Perils  Utility          more than 69000  1             101           2          400         1             more than 30          more than 30       more than 4         7 years       31 to 35           No                 No              External   more than 5          no change            1 vehicle     1994  All Perils    1\n",
            "       4            Thursday   Accura     Rural         Tuesday           Jan           2                   Male  Married        56   Policy Holder  Utility - All Perils  Utility          more than 69000  1             114           10         400         2             more than 30          more than 30       none                more than 7   51 to 65           No                 No              External   none                 no change            1 vehicle     1994  All Perils    1\n",
            "       5            Monday     Ford       Rural         Tuesday           Dec           2                   Male  Single         37   Policy Holder  Utility - All Perils  Utility          more than 69000  1             8253          14         400         4             more than 30          more than 30       1                   more than 7   36 to 40           No                 No              External   more than 5          no change            1 vehicle     1995  All Perils    1\n",
            "Oct    1            Monday     Accura     Urban         Monday            Oct           1                   Male  Married        30   Policy Holder  Utility - All Perils  Utility          more than 69000  1             6911          1          400         4             more than 30          more than 30       none                7 years       31 to 35           No                 No              External   none                 no change            1 vehicle     1995  All Perils    1\n",
            "       3            Friday     Chevrolet  Urban         Tuesday           Oct           4                   Male  Married        50   Policy Holder  Utility - All Perils  Utility          more than 69000  1             15121         9          400         3             more than 30          more than 30       2 to 4              7 years       41 to 50           No                 No              External   1 to 2               4 to 8 years         2 vehicles    1996  All Perils    1\n",
            "       4            Tuesday    Accura     Urban         Thursday          Oct           4                   Male  Married        68   Policy Holder  Utility - All Perils  Utility          more than 69000  1             7495          7          400         2             more than 30          more than 30       none                more than 7   over 65            No                 No              External   none                 no change            1 vehicle     1995  All Perils    1\n",
            "       5            Friday     Accura     Urban         Wednesday         Dec           3                   Male  Married        60   Policy Holder  Utility - All Perils  Utility          more than 69000  1             7555          3          400         4             more than 30          more than 30       1                   more than 7   51 to 65           No                 No              External   more than 5          no change            1 vehicle     1995  All Perils    1\n",
            "Sep    1            Tuesday    Accura     Urban         Thursday          Sep           5                   Male  Married        28   Policy Holder  Utility - All Perils  Utility          more than 69000  1             6208          6          400         4             more than 30          more than 30       1                   6 years       31 to 35           No                 No              External   1 to 2               no change            1 vehicle     1995  All Perils    1\n",
            "       3            Monday     Accura     Rural         Wednesday         Sep           4                   Male  Married        29   Policy Holder  Utility - All Perils  Utility          more than 69000  1             6544          12         400         3             more than 30          more than 30       2 to 4              7 years       31 to 35           No                 No              External   none                 no change            1 vehicle     1995  All Perils    1\n",
            "Jun    5            Thursday   Accura     Urban         Wednesday         Jul           2                   Male  Married        57   Policy Holder  Utility - All Perils  Utility          more than 69000  1             13226         2          400         3             more than 30          more than 30       none                more than 7   51 to 65           No                 No              External   none                 no change            1 vehicle     1996  All Perils    1\n",
            "       4            Friday     Chevrolet  Rural         Tuesday           Jul           1                   Male  Married        45   Policy Holder  Utility - All Perils  Utility          more than 69000  1             13130         9          400         3             more than 30          more than 30       1                   more than 7   36 to 40           No                 No              External   1 to 2               no change            1 vehicle     1996  All Perils    1\n",
            "       3            Friday     Accura     Urban         Monday            Jul           4                   Male  Married        51   Policy Holder  Utility - All Perils  Utility          more than 69000  1             4551          4          400         4             15 to 30              more than 30       1                   5 years       41 to 50           No                 No              External   none                 1 year               1 vehicle     1994  All Perils    1\n",
            "Dec    3            Tuesday    Chevrolet  Urban         Monday            Jan           2                   Male  Married        26   Policy Holder  Utility - All Perils  Utility          more than 69000  1             193           14         400         2             more than 30          more than 30       none                6 years       31 to 35           No                 No              External   1 to 2               no change            1 vehicle     1994  All Perils    1\n",
            "Aug    1            Friday     Chevrolet  Urban         Monday            Aug           2                   Male  Married        38   Policy Holder  Utility - All Perils  Utility          more than 69000  1             5540          13         400         1             more than 30          more than 30       2 to 4              7 years       36 to 40           No                 No              External   1 to 2               no change            1 vehicle     1994  All Perils    1\n",
            "                    Monday     Accura     Urban         Wednesday         Aug           5                   Male  Married        28   Policy Holder  Utility - All Perils  Utility          more than 69000  1             5451          2          400         2             more than 30          more than 30       1                   7 years       31 to 35           No                 No              External   none                 no change            1 vehicle     1994  All Perils    1\n",
            "                    Tuesday    Accura     Urban         Monday            Aug           2                   Male  Married        29   Policy Holder  Utility - All Perils  Utility          more than 69000  1             13882         6          400         3             more than 30          more than 30       none                6 years       31 to 35           No                 No              External   none                 4 to 8 years         2 vehicles    1996  All Perils    1\n",
            "       2            Sunday     Accura     Urban         Wednesday         Aug           3                   Male  Married        32   Policy Holder  Utility - All Perils  Utility          more than 69000  1             14011         8          400         1             more than 30          more than 30       none                6 years       31 to 35           No                 No              External   none                 no change            1 vehicle     1996  All Perils    1\n",
            "       5            Monday     Mercury    Urban         Monday            Aug           5                   Male  Married        46   Policy Holder  Utility - All Perils  Utility          30000 to 39000   1             5988          14         400         3             more than 30          more than 30       more than 4         more than 7   41 to 50           No                 No              External   none                 no change            1 vehicle     1994  All Perils    1\n",
            "                    Wednesday  Accura     Urban         Friday            Sep           4                   Male  Single         41   Policy Holder  Utility - All Perils  Utility          more than 69000  1             14336         5          400         4             more than 30          more than 30       1                   6 years       36 to 40           No                 No              External   none                 no change            1 vehicle     1996  All Perils    1\n",
            "Dec    1            Sunday     Chevrolet  Urban         Thursday          Dec           3                   Male  Single         32   Policy Holder  Utility - All Perils  Utility          more than 69000  1             8367          11         400         2             more than 30          more than 30       2 to 4              6 years       31 to 35           No                 No              External   none                 no change            1 vehicle     1995  All Perils    1\n",
            "       3            Monday     Accura     Urban         Wednesday         Dec           5                   Male  Single         36   Policy Holder  Utility - All Perils  Utility          more than 69000  1             8692          14         400         1             more than 30          more than 30       none                7 years       36 to 40           No                 No              External   none                 no change            1 vehicle     1995  All Perils    1\n",
            "       5            Friday     Honda      Urban         Monday            Jan           2                   Male  Single         0    Policy Holder  Utility - All Perils  Utility          more than 69000  1             316           14         400         1             more than 30          more than 30       1                   new           16 to 17           No                 No              External   none                 4 to 8 years         2 vehicles    1994  All Perils    1\n",
            "Jun    1            Friday     Accura     Urban         Wednesday         Jun           2                   Male  Married        80   Policy Holder  Utility - All Perils  Utility          more than 69000  1             4229          2          400         1             more than 30          more than 30       none                more than 7   over 65            No                 No              External   1 to 2               no change            1 vehicle     1994  All Perils    1\n",
            "Feb    2            Wednesday  Ford       Urban         Thursday          Feb           3                   Male  Married        51   Policy Holder  Utility - All Perils  Utility          more than 69000  1             9986          2          400         2             more than 30          more than 30       more than 4         7 years       41 to 50           No                 No              External   none                 no change            1 vehicle     1995  All Perils    1\n",
            "       3            Tuesday    Honda      Urban         Thursday          Feb           3                   Male  Single         0    Policy Holder  Utility - All Perils  Utility          more than 69000  1             10117         11         400         1             more than 30          more than 30       none                new           16 to 17           No                 No              External   none                 no change            1 vehicle     1995  All Perils    1\n",
            "                    Wednesday  Pontiac    Urban         Thursday          Feb           3                   Male  Single         36   Policy Holder  Utility - All Perils  Utility          40000 to 59000   1             10125         13         400         2             more than 30          more than 30       more than 4         7 years       36 to 40           No                 No              External   none                 no change            1 vehicle     1995  All Perils    1\n",
            "       4            Tuesday    Pontiac    Urban         Thursday          Mar           2                   Male  Married        41   Policy Holder  Utility - All Perils  Utility          more than 69000  1             10261         14         400         2             more than 30          more than 30       1                   7 years       36 to 40           No                 No              External   none                 no change            1 vehicle     1995  All Perils    1\n",
            "Jan    3            Tuesday    Chevrolet  Urban         Wednesday         Jan           3                   Male  Married        46   Policy Holder  Utility - Collision   Utility          more than 69000  1             9352          13         400         3             more than 30          more than 30       more than 4         7 years       41 to 50           No                 No              External   more than 5          no change            1 vehicle     1995  Collision     1\n",
            "Jul    2            Thursday   Chevrolet  Urban         Thursday          Jul           5                   Male  Married        40   Policy Holder  Utility - All Perils  Utility          more than 69000  1             4944          12         400         1             more than 30          more than 30       2 to 4              7 years       36 to 40           No                 No              External   1 to 2               no change            1 vehicle     1994  All Perils    1\n",
            "       3            Wednesday  Accura     Urban         Tuesday           Aug           1                   Male  Married        36   Policy Holder  Utility - All Perils  Utility          more than 69000  1             5220          1          400         2             more than 30          more than 30       none                more than 7   36 to 40           No                 No              External   none                 no change            1 vehicle     1994  All Perils    1\n",
            "       4            Thursday   Pontiac    Urban         Thursday          Aug           1                   Male  Married        38   Policy Holder  Utility - All Perils  Utility          40000 to 59000   1             13799         15         400         3             8 to 15               more than 30       2 to 4              more than 7   36 to 40           No                 No              External   none                 no change            1 vehicle     1996  All Perils    1\n",
            "Sep    3            Wednesday  Chevrolet  Urban         Tuesday           Nov           2                   Male  Married        66   Policy Holder  Utility - All Perils  Utility          more than 69000  1             6387          13         700         3             more than 30          more than 30       none                more than 7   over 65            No                 No              External   more than 5          no change            1 vehicle     1995  All Perils    1\n",
            "dtype: int64\n"
          ]
        }
      ]
    },
    {
      "cell_type": "code",
      "source": [],
      "metadata": {
        "id": "0Z-emPU5deNa"
      },
      "execution_count": null,
      "outputs": []
    },
    {
      "cell_type": "code",
      "source": [],
      "metadata": {
        "id": "3ZLWO6Rlq9Qb"
      },
      "execution_count": null,
      "outputs": []
    },
    {
      "cell_type": "code",
      "source": [],
      "metadata": {
        "id": "1MF5RVslq9JY"
      },
      "execution_count": null,
      "outputs": []
    },
    {
      "cell_type": "markdown",
      "source": [
        "Bagging and Boosting"
      ],
      "metadata": {
        "id": "nJc23hE7cSD_"
      }
    },
    {
      "cell_type": "markdown",
      "source": [
        "Bagging"
      ],
      "metadata": {
        "id": "-4IftRUvgG9W"
      }
    },
    {
      "cell_type": "code",
      "source": [
        "import pandas as pd\n",
        "import numpy as np\n",
        "import matplotlib.pyplot as plt"
      ],
      "metadata": {
        "id": "81LRJUobcRxw"
      },
      "execution_count": null,
      "outputs": []
    },
    {
      "cell_type": "code",
      "source": [
        "dataset=pd.read_csv('fraud_oracle.csv')"
      ],
      "metadata": {
        "id": "7IDpakl5cRt2"
      },
      "execution_count": null,
      "outputs": []
    },
    {
      "cell_type": "code",
      "source": [
        "dataset.head()"
      ],
      "metadata": {
        "colab": {
          "base_uri": "https://localhost:8080/",
          "height": 300
        },
        "id": "3N38jNvMki27",
        "outputId": "430a723f-f707-4a99-cfa2-37d88d591e29"
      },
      "execution_count": null,
      "outputs": [
        {
          "output_type": "execute_result",
          "data": {
            "text/plain": [
              "  Month  WeekOfMonth  DayOfWeek    Make AccidentArea DayOfWeekClaimed  \\\n",
              "0   Dec            5  Wednesday   Honda        Urban          Tuesday   \n",
              "1   Jan            3  Wednesday   Honda        Urban           Monday   \n",
              "2   Oct            5     Friday   Honda        Urban         Thursday   \n",
              "3   Jun            2   Saturday  Toyota        Rural           Friday   \n",
              "4   Jan            5     Monday   Honda        Urban          Tuesday   \n",
              "\n",
              "  MonthClaimed  WeekOfMonthClaimed     Sex MaritalStatus  ...  AgeOfVehicle  \\\n",
              "0          Jan                   1  Female        Single  ...       3 years   \n",
              "1          Jan                   4    Male        Single  ...       6 years   \n",
              "2          Nov                   2    Male       Married  ...       7 years   \n",
              "3          Jul                   1    Male       Married  ...   more than 7   \n",
              "4          Feb                   2  Female        Single  ...       5 years   \n",
              "\n",
              "  AgeOfPolicyHolder PoliceReportFiled WitnessPresent AgentType  \\\n",
              "0          26 to 30                No             No  External   \n",
              "1          31 to 35               Yes             No  External   \n",
              "2          41 to 50                No             No  External   \n",
              "3          51 to 65               Yes             No  External   \n",
              "4          31 to 35                No             No  External   \n",
              "\n",
              "   NumberOfSuppliments  AddressChange_Claim  NumberOfCars  Year  BasePolicy  \n",
              "0                 none               1 year        3 to 4  1994   Liability  \n",
              "1                 none            no change     1 vehicle  1994   Collision  \n",
              "2                 none            no change     1 vehicle  1994   Collision  \n",
              "3          more than 5            no change     1 vehicle  1994   Liability  \n",
              "4                 none            no change     1 vehicle  1994   Collision  \n",
              "\n",
              "[5 rows x 33 columns]"
            ],
            "text/html": [
              "\n",
              "\n",
              "  <div id=\"df-23d2536f-dc5a-42e5-8a76-f957ca346a30\">\n",
              "    <div class=\"colab-df-container\">\n",
              "      <div>\n",
              "<style scoped>\n",
              "    .dataframe tbody tr th:only-of-type {\n",
              "        vertical-align: middle;\n",
              "    }\n",
              "\n",
              "    .dataframe tbody tr th {\n",
              "        vertical-align: top;\n",
              "    }\n",
              "\n",
              "    .dataframe thead th {\n",
              "        text-align: right;\n",
              "    }\n",
              "</style>\n",
              "<table border=\"1\" class=\"dataframe\">\n",
              "  <thead>\n",
              "    <tr style=\"text-align: right;\">\n",
              "      <th></th>\n",
              "      <th>Month</th>\n",
              "      <th>WeekOfMonth</th>\n",
              "      <th>DayOfWeek</th>\n",
              "      <th>Make</th>\n",
              "      <th>AccidentArea</th>\n",
              "      <th>DayOfWeekClaimed</th>\n",
              "      <th>MonthClaimed</th>\n",
              "      <th>WeekOfMonthClaimed</th>\n",
              "      <th>Sex</th>\n",
              "      <th>MaritalStatus</th>\n",
              "      <th>...</th>\n",
              "      <th>AgeOfVehicle</th>\n",
              "      <th>AgeOfPolicyHolder</th>\n",
              "      <th>PoliceReportFiled</th>\n",
              "      <th>WitnessPresent</th>\n",
              "      <th>AgentType</th>\n",
              "      <th>NumberOfSuppliments</th>\n",
              "      <th>AddressChange_Claim</th>\n",
              "      <th>NumberOfCars</th>\n",
              "      <th>Year</th>\n",
              "      <th>BasePolicy</th>\n",
              "    </tr>\n",
              "  </thead>\n",
              "  <tbody>\n",
              "    <tr>\n",
              "      <th>0</th>\n",
              "      <td>Dec</td>\n",
              "      <td>5</td>\n",
              "      <td>Wednesday</td>\n",
              "      <td>Honda</td>\n",
              "      <td>Urban</td>\n",
              "      <td>Tuesday</td>\n",
              "      <td>Jan</td>\n",
              "      <td>1</td>\n",
              "      <td>Female</td>\n",
              "      <td>Single</td>\n",
              "      <td>...</td>\n",
              "      <td>3 years</td>\n",
              "      <td>26 to 30</td>\n",
              "      <td>No</td>\n",
              "      <td>No</td>\n",
              "      <td>External</td>\n",
              "      <td>none</td>\n",
              "      <td>1 year</td>\n",
              "      <td>3 to 4</td>\n",
              "      <td>1994</td>\n",
              "      <td>Liability</td>\n",
              "    </tr>\n",
              "    <tr>\n",
              "      <th>1</th>\n",
              "      <td>Jan</td>\n",
              "      <td>3</td>\n",
              "      <td>Wednesday</td>\n",
              "      <td>Honda</td>\n",
              "      <td>Urban</td>\n",
              "      <td>Monday</td>\n",
              "      <td>Jan</td>\n",
              "      <td>4</td>\n",
              "      <td>Male</td>\n",
              "      <td>Single</td>\n",
              "      <td>...</td>\n",
              "      <td>6 years</td>\n",
              "      <td>31 to 35</td>\n",
              "      <td>Yes</td>\n",
              "      <td>No</td>\n",
              "      <td>External</td>\n",
              "      <td>none</td>\n",
              "      <td>no change</td>\n",
              "      <td>1 vehicle</td>\n",
              "      <td>1994</td>\n",
              "      <td>Collision</td>\n",
              "    </tr>\n",
              "    <tr>\n",
              "      <th>2</th>\n",
              "      <td>Oct</td>\n",
              "      <td>5</td>\n",
              "      <td>Friday</td>\n",
              "      <td>Honda</td>\n",
              "      <td>Urban</td>\n",
              "      <td>Thursday</td>\n",
              "      <td>Nov</td>\n",
              "      <td>2</td>\n",
              "      <td>Male</td>\n",
              "      <td>Married</td>\n",
              "      <td>...</td>\n",
              "      <td>7 years</td>\n",
              "      <td>41 to 50</td>\n",
              "      <td>No</td>\n",
              "      <td>No</td>\n",
              "      <td>External</td>\n",
              "      <td>none</td>\n",
              "      <td>no change</td>\n",
              "      <td>1 vehicle</td>\n",
              "      <td>1994</td>\n",
              "      <td>Collision</td>\n",
              "    </tr>\n",
              "    <tr>\n",
              "      <th>3</th>\n",
              "      <td>Jun</td>\n",
              "      <td>2</td>\n",
              "      <td>Saturday</td>\n",
              "      <td>Toyota</td>\n",
              "      <td>Rural</td>\n",
              "      <td>Friday</td>\n",
              "      <td>Jul</td>\n",
              "      <td>1</td>\n",
              "      <td>Male</td>\n",
              "      <td>Married</td>\n",
              "      <td>...</td>\n",
              "      <td>more than 7</td>\n",
              "      <td>51 to 65</td>\n",
              "      <td>Yes</td>\n",
              "      <td>No</td>\n",
              "      <td>External</td>\n",
              "      <td>more than 5</td>\n",
              "      <td>no change</td>\n",
              "      <td>1 vehicle</td>\n",
              "      <td>1994</td>\n",
              "      <td>Liability</td>\n",
              "    </tr>\n",
              "    <tr>\n",
              "      <th>4</th>\n",
              "      <td>Jan</td>\n",
              "      <td>5</td>\n",
              "      <td>Monday</td>\n",
              "      <td>Honda</td>\n",
              "      <td>Urban</td>\n",
              "      <td>Tuesday</td>\n",
              "      <td>Feb</td>\n",
              "      <td>2</td>\n",
              "      <td>Female</td>\n",
              "      <td>Single</td>\n",
              "      <td>...</td>\n",
              "      <td>5 years</td>\n",
              "      <td>31 to 35</td>\n",
              "      <td>No</td>\n",
              "      <td>No</td>\n",
              "      <td>External</td>\n",
              "      <td>none</td>\n",
              "      <td>no change</td>\n",
              "      <td>1 vehicle</td>\n",
              "      <td>1994</td>\n",
              "      <td>Collision</td>\n",
              "    </tr>\n",
              "  </tbody>\n",
              "</table>\n",
              "<p>5 rows × 33 columns</p>\n",
              "</div>\n",
              "      <button class=\"colab-df-convert\" onclick=\"convertToInteractive('df-23d2536f-dc5a-42e5-8a76-f957ca346a30')\"\n",
              "              title=\"Convert this dataframe to an interactive table.\"\n",
              "              style=\"display:none;\">\n",
              "\n",
              "  <svg xmlns=\"http://www.w3.org/2000/svg\" height=\"24px\"viewBox=\"0 0 24 24\"\n",
              "       width=\"24px\">\n",
              "    <path d=\"M0 0h24v24H0V0z\" fill=\"none\"/>\n",
              "    <path d=\"M18.56 5.44l.94 2.06.94-2.06 2.06-.94-2.06-.94-.94-2.06-.94 2.06-2.06.94zm-11 1L8.5 8.5l.94-2.06 2.06-.94-2.06-.94L8.5 2.5l-.94 2.06-2.06.94zm10 10l.94 2.06.94-2.06 2.06-.94-2.06-.94-.94-2.06-.94 2.06-2.06.94z\"/><path d=\"M17.41 7.96l-1.37-1.37c-.4-.4-.92-.59-1.43-.59-.52 0-1.04.2-1.43.59L10.3 9.45l-7.72 7.72c-.78.78-.78 2.05 0 2.83L4 21.41c.39.39.9.59 1.41.59.51 0 1.02-.2 1.41-.59l7.78-7.78 2.81-2.81c.8-.78.8-2.07 0-2.86zM5.41 20L4 18.59l7.72-7.72 1.47 1.35L5.41 20z\"/>\n",
              "  </svg>\n",
              "      </button>\n",
              "\n",
              "\n",
              "\n",
              "    <div id=\"df-687dd134-c875-48e2-a927-879feb080e6c\">\n",
              "      <button class=\"colab-df-quickchart\" onclick=\"quickchart('df-687dd134-c875-48e2-a927-879feb080e6c')\"\n",
              "              title=\"Suggest charts.\"\n",
              "              style=\"display:none;\">\n",
              "\n",
              "<svg xmlns=\"http://www.w3.org/2000/svg\" height=\"24px\"viewBox=\"0 0 24 24\"\n",
              "     width=\"24px\">\n",
              "    <g>\n",
              "        <path d=\"M19 3H5c-1.1 0-2 .9-2 2v14c0 1.1.9 2 2 2h14c1.1 0 2-.9 2-2V5c0-1.1-.9-2-2-2zM9 17H7v-7h2v7zm4 0h-2V7h2v10zm4 0h-2v-4h2v4z\"/>\n",
              "    </g>\n",
              "</svg>\n",
              "      </button>\n",
              "    </div>\n",
              "\n",
              "<style>\n",
              "  .colab-df-quickchart {\n",
              "    background-color: #E8F0FE;\n",
              "    border: none;\n",
              "    border-radius: 50%;\n",
              "    cursor: pointer;\n",
              "    display: none;\n",
              "    fill: #1967D2;\n",
              "    height: 32px;\n",
              "    padding: 0 0 0 0;\n",
              "    width: 32px;\n",
              "  }\n",
              "\n",
              "  .colab-df-quickchart:hover {\n",
              "    background-color: #E2EBFA;\n",
              "    box-shadow: 0px 1px 2px rgba(60, 64, 67, 0.3), 0px 1px 3px 1px rgba(60, 64, 67, 0.15);\n",
              "    fill: #174EA6;\n",
              "  }\n",
              "\n",
              "  [theme=dark] .colab-df-quickchart {\n",
              "    background-color: #3B4455;\n",
              "    fill: #D2E3FC;\n",
              "  }\n",
              "\n",
              "  [theme=dark] .colab-df-quickchart:hover {\n",
              "    background-color: #434B5C;\n",
              "    box-shadow: 0px 1px 3px 1px rgba(0, 0, 0, 0.15);\n",
              "    filter: drop-shadow(0px 1px 2px rgba(0, 0, 0, 0.3));\n",
              "    fill: #FFFFFF;\n",
              "  }\n",
              "</style>\n",
              "\n",
              "    <script>\n",
              "      async function quickchart(key) {\n",
              "        const containerElement = document.querySelector('#' + key);\n",
              "        const charts = await google.colab.kernel.invokeFunction(\n",
              "            'suggestCharts', [key], {});\n",
              "      }\n",
              "    </script>\n",
              "\n",
              "      <script>\n",
              "\n",
              "function displayQuickchartButton(domScope) {\n",
              "  let quickchartButtonEl =\n",
              "    domScope.querySelector('#df-687dd134-c875-48e2-a927-879feb080e6c button.colab-df-quickchart');\n",
              "  quickchartButtonEl.style.display =\n",
              "    google.colab.kernel.accessAllowed ? 'block' : 'none';\n",
              "}\n",
              "\n",
              "        displayQuickchartButton(document);\n",
              "      </script>\n",
              "      <style>\n",
              "    .colab-df-container {\n",
              "      display:flex;\n",
              "      flex-wrap:wrap;\n",
              "      gap: 12px;\n",
              "    }\n",
              "\n",
              "    .colab-df-convert {\n",
              "      background-color: #E8F0FE;\n",
              "      border: none;\n",
              "      border-radius: 50%;\n",
              "      cursor: pointer;\n",
              "      display: none;\n",
              "      fill: #1967D2;\n",
              "      height: 32px;\n",
              "      padding: 0 0 0 0;\n",
              "      width: 32px;\n",
              "    }\n",
              "\n",
              "    .colab-df-convert:hover {\n",
              "      background-color: #E2EBFA;\n",
              "      box-shadow: 0px 1px 2px rgba(60, 64, 67, 0.3), 0px 1px 3px 1px rgba(60, 64, 67, 0.15);\n",
              "      fill: #174EA6;\n",
              "    }\n",
              "\n",
              "    [theme=dark] .colab-df-convert {\n",
              "      background-color: #3B4455;\n",
              "      fill: #D2E3FC;\n",
              "    }\n",
              "\n",
              "    [theme=dark] .colab-df-convert:hover {\n",
              "      background-color: #434B5C;\n",
              "      box-shadow: 0px 1px 3px 1px rgba(0, 0, 0, 0.15);\n",
              "      filter: drop-shadow(0px 1px 2px rgba(0, 0, 0, 0.3));\n",
              "      fill: #FFFFFF;\n",
              "    }\n",
              "  </style>\n",
              "\n",
              "      <script>\n",
              "        const buttonEl =\n",
              "          document.querySelector('#df-23d2536f-dc5a-42e5-8a76-f957ca346a30 button.colab-df-convert');\n",
              "        buttonEl.style.display =\n",
              "          google.colab.kernel.accessAllowed ? 'block' : 'none';\n",
              "\n",
              "        async function convertToInteractive(key) {\n",
              "          const element = document.querySelector('#df-23d2536f-dc5a-42e5-8a76-f957ca346a30');\n",
              "          const dataTable =\n",
              "            await google.colab.kernel.invokeFunction('convertToInteractive',\n",
              "                                                     [key], {});\n",
              "          if (!dataTable) return;\n",
              "\n",
              "          const docLinkHtml = 'Like what you see? Visit the ' +\n",
              "            '<a target=\"_blank\" href=https://colab.research.google.com/notebooks/data_table.ipynb>data table notebook</a>'\n",
              "            + ' to learn more about interactive tables.';\n",
              "          element.innerHTML = '';\n",
              "          dataTable['output_type'] = 'display_data';\n",
              "          await google.colab.output.renderOutput(dataTable, element);\n",
              "          const docLink = document.createElement('div');\n",
              "          docLink.innerHTML = docLinkHtml;\n",
              "          element.appendChild(docLink);\n",
              "        }\n",
              "      </script>\n",
              "    </div>\n",
              "  </div>\n"
            ]
          },
          "metadata": {},
          "execution_count": 145
        }
      ]
    },
    {
      "cell_type": "code",
      "source": [
        "y=dataset['FraudFound_P']"
      ],
      "metadata": {
        "id": "XntPpHahcRqM"
      },
      "execution_count": null,
      "outputs": []
    },
    {
      "cell_type": "code",
      "source": [
        "y"
      ],
      "metadata": {
        "colab": {
          "base_uri": "https://localhost:8080/"
        },
        "id": "V4ZumdcMkleI",
        "outputId": "d808cdeb-e8e2-4a95-ecb8-10eab382d4ee"
      },
      "execution_count": null,
      "outputs": [
        {
          "output_type": "execute_result",
          "data": {
            "text/plain": [
              "0        0\n",
              "1        0\n",
              "2        0\n",
              "3        0\n",
              "4        0\n",
              "        ..\n",
              "15415    1\n",
              "15416    0\n",
              "15417    1\n",
              "15418    0\n",
              "15419    1\n",
              "Name: FraudFound_P, Length: 15420, dtype: int64"
            ]
          },
          "metadata": {},
          "execution_count": 147
        }
      ]
    },
    {
      "cell_type": "code",
      "source": [
        "x=dataset.drop(columns=['FraudFound_P'])"
      ],
      "metadata": {
        "id": "zX09WFTAcRm1"
      },
      "execution_count": null,
      "outputs": []
    },
    {
      "cell_type": "code",
      "source": [
        "x"
      ],
      "metadata": {
        "colab": {
          "base_uri": "https://localhost:8080/",
          "height": 488
        },
        "id": "D8LdHW6oknwM",
        "outputId": "f1f81b68-0ba9-4796-b6a7-7918392f570d"
      },
      "execution_count": null,
      "outputs": [
        {
          "output_type": "execute_result",
          "data": {
            "text/plain": [
              "      Month  WeekOfMonth  DayOfWeek     Make AccidentArea DayOfWeekClaimed  \\\n",
              "0       Dec            5  Wednesday    Honda        Urban          Tuesday   \n",
              "1       Jan            3  Wednesday    Honda        Urban           Monday   \n",
              "2       Oct            5     Friday    Honda        Urban         Thursday   \n",
              "3       Jun            2   Saturday   Toyota        Rural           Friday   \n",
              "4       Jan            5     Monday    Honda        Urban          Tuesday   \n",
              "...     ...          ...        ...      ...          ...              ...   \n",
              "15415   Nov            4     Friday   Toyota        Urban          Tuesday   \n",
              "15416   Nov            5   Thursday  Pontiac        Urban           Friday   \n",
              "15417   Nov            5   Thursday   Toyota        Rural           Friday   \n",
              "15418   Dec            1     Monday   Toyota        Urban         Thursday   \n",
              "15419   Dec            2  Wednesday   Toyota        Urban         Thursday   \n",
              "\n",
              "      MonthClaimed  WeekOfMonthClaimed     Sex MaritalStatus  ...  \\\n",
              "0              Jan                   1  Female        Single  ...   \n",
              "1              Jan                   4    Male        Single  ...   \n",
              "2              Nov                   2    Male       Married  ...   \n",
              "3              Jul                   1    Male       Married  ...   \n",
              "4              Feb                   2  Female        Single  ...   \n",
              "...            ...                 ...     ...           ...  ...   \n",
              "15415          Nov                   5    Male       Married  ...   \n",
              "15416          Dec                   1    Male       Married  ...   \n",
              "15417          Dec                   1    Male        Single  ...   \n",
              "15418          Dec                   2  Female       Married  ...   \n",
              "15419          Dec                   3    Male        Single  ...   \n",
              "\n",
              "       AgeOfVehicle AgeOfPolicyHolder PoliceReportFiled WitnessPresent  \\\n",
              "0           3 years          26 to 30                No             No   \n",
              "1           6 years          31 to 35               Yes             No   \n",
              "2           7 years          41 to 50                No             No   \n",
              "3       more than 7          51 to 65               Yes             No   \n",
              "4           5 years          31 to 35                No             No   \n",
              "...             ...               ...               ...            ...   \n",
              "15415       6 years          31 to 35                No             No   \n",
              "15416       6 years          31 to 35                No             No   \n",
              "15417       5 years          26 to 30                No             No   \n",
              "15418       2 years          31 to 35                No             No   \n",
              "15419       5 years          26 to 30                No             No   \n",
              "\n",
              "      AgentType  NumberOfSuppliments  AddressChange_Claim  NumberOfCars  Year  \\\n",
              "0      External                 none               1 year        3 to 4  1994   \n",
              "1      External                 none            no change     1 vehicle  1994   \n",
              "2      External                 none            no change     1 vehicle  1994   \n",
              "3      External          more than 5            no change     1 vehicle  1994   \n",
              "4      External                 none            no change     1 vehicle  1994   \n",
              "...         ...                  ...                  ...           ...   ...   \n",
              "15415  External                 none            no change     1 vehicle  1996   \n",
              "15416  External          more than 5            no change        3 to 4  1996   \n",
              "15417  External               1 to 2            no change     1 vehicle  1996   \n",
              "15418  External          more than 5            no change     1 vehicle  1996   \n",
              "15419  External               1 to 2            no change     1 vehicle  1996   \n",
              "\n",
              "       BasePolicy  \n",
              "0       Liability  \n",
              "1       Collision  \n",
              "2       Collision  \n",
              "3       Liability  \n",
              "4       Collision  \n",
              "...           ...  \n",
              "15415   Collision  \n",
              "15416   Liability  \n",
              "15417   Collision  \n",
              "15418  All Perils  \n",
              "15419   Collision  \n",
              "\n",
              "[15420 rows x 32 columns]"
            ],
            "text/html": [
              "\n",
              "\n",
              "  <div id=\"df-7c0749a4-a5f9-4f45-b29e-2b85ccf3ce11\">\n",
              "    <div class=\"colab-df-container\">\n",
              "      <div>\n",
              "<style scoped>\n",
              "    .dataframe tbody tr th:only-of-type {\n",
              "        vertical-align: middle;\n",
              "    }\n",
              "\n",
              "    .dataframe tbody tr th {\n",
              "        vertical-align: top;\n",
              "    }\n",
              "\n",
              "    .dataframe thead th {\n",
              "        text-align: right;\n",
              "    }\n",
              "</style>\n",
              "<table border=\"1\" class=\"dataframe\">\n",
              "  <thead>\n",
              "    <tr style=\"text-align: right;\">\n",
              "      <th></th>\n",
              "      <th>Month</th>\n",
              "      <th>WeekOfMonth</th>\n",
              "      <th>DayOfWeek</th>\n",
              "      <th>Make</th>\n",
              "      <th>AccidentArea</th>\n",
              "      <th>DayOfWeekClaimed</th>\n",
              "      <th>MonthClaimed</th>\n",
              "      <th>WeekOfMonthClaimed</th>\n",
              "      <th>Sex</th>\n",
              "      <th>MaritalStatus</th>\n",
              "      <th>...</th>\n",
              "      <th>AgeOfVehicle</th>\n",
              "      <th>AgeOfPolicyHolder</th>\n",
              "      <th>PoliceReportFiled</th>\n",
              "      <th>WitnessPresent</th>\n",
              "      <th>AgentType</th>\n",
              "      <th>NumberOfSuppliments</th>\n",
              "      <th>AddressChange_Claim</th>\n",
              "      <th>NumberOfCars</th>\n",
              "      <th>Year</th>\n",
              "      <th>BasePolicy</th>\n",
              "    </tr>\n",
              "  </thead>\n",
              "  <tbody>\n",
              "    <tr>\n",
              "      <th>0</th>\n",
              "      <td>Dec</td>\n",
              "      <td>5</td>\n",
              "      <td>Wednesday</td>\n",
              "      <td>Honda</td>\n",
              "      <td>Urban</td>\n",
              "      <td>Tuesday</td>\n",
              "      <td>Jan</td>\n",
              "      <td>1</td>\n",
              "      <td>Female</td>\n",
              "      <td>Single</td>\n",
              "      <td>...</td>\n",
              "      <td>3 years</td>\n",
              "      <td>26 to 30</td>\n",
              "      <td>No</td>\n",
              "      <td>No</td>\n",
              "      <td>External</td>\n",
              "      <td>none</td>\n",
              "      <td>1 year</td>\n",
              "      <td>3 to 4</td>\n",
              "      <td>1994</td>\n",
              "      <td>Liability</td>\n",
              "    </tr>\n",
              "    <tr>\n",
              "      <th>1</th>\n",
              "      <td>Jan</td>\n",
              "      <td>3</td>\n",
              "      <td>Wednesday</td>\n",
              "      <td>Honda</td>\n",
              "      <td>Urban</td>\n",
              "      <td>Monday</td>\n",
              "      <td>Jan</td>\n",
              "      <td>4</td>\n",
              "      <td>Male</td>\n",
              "      <td>Single</td>\n",
              "      <td>...</td>\n",
              "      <td>6 years</td>\n",
              "      <td>31 to 35</td>\n",
              "      <td>Yes</td>\n",
              "      <td>No</td>\n",
              "      <td>External</td>\n",
              "      <td>none</td>\n",
              "      <td>no change</td>\n",
              "      <td>1 vehicle</td>\n",
              "      <td>1994</td>\n",
              "      <td>Collision</td>\n",
              "    </tr>\n",
              "    <tr>\n",
              "      <th>2</th>\n",
              "      <td>Oct</td>\n",
              "      <td>5</td>\n",
              "      <td>Friday</td>\n",
              "      <td>Honda</td>\n",
              "      <td>Urban</td>\n",
              "      <td>Thursday</td>\n",
              "      <td>Nov</td>\n",
              "      <td>2</td>\n",
              "      <td>Male</td>\n",
              "      <td>Married</td>\n",
              "      <td>...</td>\n",
              "      <td>7 years</td>\n",
              "      <td>41 to 50</td>\n",
              "      <td>No</td>\n",
              "      <td>No</td>\n",
              "      <td>External</td>\n",
              "      <td>none</td>\n",
              "      <td>no change</td>\n",
              "      <td>1 vehicle</td>\n",
              "      <td>1994</td>\n",
              "      <td>Collision</td>\n",
              "    </tr>\n",
              "    <tr>\n",
              "      <th>3</th>\n",
              "      <td>Jun</td>\n",
              "      <td>2</td>\n",
              "      <td>Saturday</td>\n",
              "      <td>Toyota</td>\n",
              "      <td>Rural</td>\n",
              "      <td>Friday</td>\n",
              "      <td>Jul</td>\n",
              "      <td>1</td>\n",
              "      <td>Male</td>\n",
              "      <td>Married</td>\n",
              "      <td>...</td>\n",
              "      <td>more than 7</td>\n",
              "      <td>51 to 65</td>\n",
              "      <td>Yes</td>\n",
              "      <td>No</td>\n",
              "      <td>External</td>\n",
              "      <td>more than 5</td>\n",
              "      <td>no change</td>\n",
              "      <td>1 vehicle</td>\n",
              "      <td>1994</td>\n",
              "      <td>Liability</td>\n",
              "    </tr>\n",
              "    <tr>\n",
              "      <th>4</th>\n",
              "      <td>Jan</td>\n",
              "      <td>5</td>\n",
              "      <td>Monday</td>\n",
              "      <td>Honda</td>\n",
              "      <td>Urban</td>\n",
              "      <td>Tuesday</td>\n",
              "      <td>Feb</td>\n",
              "      <td>2</td>\n",
              "      <td>Female</td>\n",
              "      <td>Single</td>\n",
              "      <td>...</td>\n",
              "      <td>5 years</td>\n",
              "      <td>31 to 35</td>\n",
              "      <td>No</td>\n",
              "      <td>No</td>\n",
              "      <td>External</td>\n",
              "      <td>none</td>\n",
              "      <td>no change</td>\n",
              "      <td>1 vehicle</td>\n",
              "      <td>1994</td>\n",
              "      <td>Collision</td>\n",
              "    </tr>\n",
              "    <tr>\n",
              "      <th>...</th>\n",
              "      <td>...</td>\n",
              "      <td>...</td>\n",
              "      <td>...</td>\n",
              "      <td>...</td>\n",
              "      <td>...</td>\n",
              "      <td>...</td>\n",
              "      <td>...</td>\n",
              "      <td>...</td>\n",
              "      <td>...</td>\n",
              "      <td>...</td>\n",
              "      <td>...</td>\n",
              "      <td>...</td>\n",
              "      <td>...</td>\n",
              "      <td>...</td>\n",
              "      <td>...</td>\n",
              "      <td>...</td>\n",
              "      <td>...</td>\n",
              "      <td>...</td>\n",
              "      <td>...</td>\n",
              "      <td>...</td>\n",
              "      <td>...</td>\n",
              "    </tr>\n",
              "    <tr>\n",
              "      <th>15415</th>\n",
              "      <td>Nov</td>\n",
              "      <td>4</td>\n",
              "      <td>Friday</td>\n",
              "      <td>Toyota</td>\n",
              "      <td>Urban</td>\n",
              "      <td>Tuesday</td>\n",
              "      <td>Nov</td>\n",
              "      <td>5</td>\n",
              "      <td>Male</td>\n",
              "      <td>Married</td>\n",
              "      <td>...</td>\n",
              "      <td>6 years</td>\n",
              "      <td>31 to 35</td>\n",
              "      <td>No</td>\n",
              "      <td>No</td>\n",
              "      <td>External</td>\n",
              "      <td>none</td>\n",
              "      <td>no change</td>\n",
              "      <td>1 vehicle</td>\n",
              "      <td>1996</td>\n",
              "      <td>Collision</td>\n",
              "    </tr>\n",
              "    <tr>\n",
              "      <th>15416</th>\n",
              "      <td>Nov</td>\n",
              "      <td>5</td>\n",
              "      <td>Thursday</td>\n",
              "      <td>Pontiac</td>\n",
              "      <td>Urban</td>\n",
              "      <td>Friday</td>\n",
              "      <td>Dec</td>\n",
              "      <td>1</td>\n",
              "      <td>Male</td>\n",
              "      <td>Married</td>\n",
              "      <td>...</td>\n",
              "      <td>6 years</td>\n",
              "      <td>31 to 35</td>\n",
              "      <td>No</td>\n",
              "      <td>No</td>\n",
              "      <td>External</td>\n",
              "      <td>more than 5</td>\n",
              "      <td>no change</td>\n",
              "      <td>3 to 4</td>\n",
              "      <td>1996</td>\n",
              "      <td>Liability</td>\n",
              "    </tr>\n",
              "    <tr>\n",
              "      <th>15417</th>\n",
              "      <td>Nov</td>\n",
              "      <td>5</td>\n",
              "      <td>Thursday</td>\n",
              "      <td>Toyota</td>\n",
              "      <td>Rural</td>\n",
              "      <td>Friday</td>\n",
              "      <td>Dec</td>\n",
              "      <td>1</td>\n",
              "      <td>Male</td>\n",
              "      <td>Single</td>\n",
              "      <td>...</td>\n",
              "      <td>5 years</td>\n",
              "      <td>26 to 30</td>\n",
              "      <td>No</td>\n",
              "      <td>No</td>\n",
              "      <td>External</td>\n",
              "      <td>1 to 2</td>\n",
              "      <td>no change</td>\n",
              "      <td>1 vehicle</td>\n",
              "      <td>1996</td>\n",
              "      <td>Collision</td>\n",
              "    </tr>\n",
              "    <tr>\n",
              "      <th>15418</th>\n",
              "      <td>Dec</td>\n",
              "      <td>1</td>\n",
              "      <td>Monday</td>\n",
              "      <td>Toyota</td>\n",
              "      <td>Urban</td>\n",
              "      <td>Thursday</td>\n",
              "      <td>Dec</td>\n",
              "      <td>2</td>\n",
              "      <td>Female</td>\n",
              "      <td>Married</td>\n",
              "      <td>...</td>\n",
              "      <td>2 years</td>\n",
              "      <td>31 to 35</td>\n",
              "      <td>No</td>\n",
              "      <td>No</td>\n",
              "      <td>External</td>\n",
              "      <td>more than 5</td>\n",
              "      <td>no change</td>\n",
              "      <td>1 vehicle</td>\n",
              "      <td>1996</td>\n",
              "      <td>All Perils</td>\n",
              "    </tr>\n",
              "    <tr>\n",
              "      <th>15419</th>\n",
              "      <td>Dec</td>\n",
              "      <td>2</td>\n",
              "      <td>Wednesday</td>\n",
              "      <td>Toyota</td>\n",
              "      <td>Urban</td>\n",
              "      <td>Thursday</td>\n",
              "      <td>Dec</td>\n",
              "      <td>3</td>\n",
              "      <td>Male</td>\n",
              "      <td>Single</td>\n",
              "      <td>...</td>\n",
              "      <td>5 years</td>\n",
              "      <td>26 to 30</td>\n",
              "      <td>No</td>\n",
              "      <td>No</td>\n",
              "      <td>External</td>\n",
              "      <td>1 to 2</td>\n",
              "      <td>no change</td>\n",
              "      <td>1 vehicle</td>\n",
              "      <td>1996</td>\n",
              "      <td>Collision</td>\n",
              "    </tr>\n",
              "  </tbody>\n",
              "</table>\n",
              "<p>15420 rows × 32 columns</p>\n",
              "</div>\n",
              "      <button class=\"colab-df-convert\" onclick=\"convertToInteractive('df-7c0749a4-a5f9-4f45-b29e-2b85ccf3ce11')\"\n",
              "              title=\"Convert this dataframe to an interactive table.\"\n",
              "              style=\"display:none;\">\n",
              "\n",
              "  <svg xmlns=\"http://www.w3.org/2000/svg\" height=\"24px\"viewBox=\"0 0 24 24\"\n",
              "       width=\"24px\">\n",
              "    <path d=\"M0 0h24v24H0V0z\" fill=\"none\"/>\n",
              "    <path d=\"M18.56 5.44l.94 2.06.94-2.06 2.06-.94-2.06-.94-.94-2.06-.94 2.06-2.06.94zm-11 1L8.5 8.5l.94-2.06 2.06-.94-2.06-.94L8.5 2.5l-.94 2.06-2.06.94zm10 10l.94 2.06.94-2.06 2.06-.94-2.06-.94-.94-2.06-.94 2.06-2.06.94z\"/><path d=\"M17.41 7.96l-1.37-1.37c-.4-.4-.92-.59-1.43-.59-.52 0-1.04.2-1.43.59L10.3 9.45l-7.72 7.72c-.78.78-.78 2.05 0 2.83L4 21.41c.39.39.9.59 1.41.59.51 0 1.02-.2 1.41-.59l7.78-7.78 2.81-2.81c.8-.78.8-2.07 0-2.86zM5.41 20L4 18.59l7.72-7.72 1.47 1.35L5.41 20z\"/>\n",
              "  </svg>\n",
              "      </button>\n",
              "\n",
              "\n",
              "\n",
              "    <div id=\"df-3910215a-16d9-4547-a971-d06997816a44\">\n",
              "      <button class=\"colab-df-quickchart\" onclick=\"quickchart('df-3910215a-16d9-4547-a971-d06997816a44')\"\n",
              "              title=\"Suggest charts.\"\n",
              "              style=\"display:none;\">\n",
              "\n",
              "<svg xmlns=\"http://www.w3.org/2000/svg\" height=\"24px\"viewBox=\"0 0 24 24\"\n",
              "     width=\"24px\">\n",
              "    <g>\n",
              "        <path d=\"M19 3H5c-1.1 0-2 .9-2 2v14c0 1.1.9 2 2 2h14c1.1 0 2-.9 2-2V5c0-1.1-.9-2-2-2zM9 17H7v-7h2v7zm4 0h-2V7h2v10zm4 0h-2v-4h2v4z\"/>\n",
              "    </g>\n",
              "</svg>\n",
              "      </button>\n",
              "    </div>\n",
              "\n",
              "<style>\n",
              "  .colab-df-quickchart {\n",
              "    background-color: #E8F0FE;\n",
              "    border: none;\n",
              "    border-radius: 50%;\n",
              "    cursor: pointer;\n",
              "    display: none;\n",
              "    fill: #1967D2;\n",
              "    height: 32px;\n",
              "    padding: 0 0 0 0;\n",
              "    width: 32px;\n",
              "  }\n",
              "\n",
              "  .colab-df-quickchart:hover {\n",
              "    background-color: #E2EBFA;\n",
              "    box-shadow: 0px 1px 2px rgba(60, 64, 67, 0.3), 0px 1px 3px 1px rgba(60, 64, 67, 0.15);\n",
              "    fill: #174EA6;\n",
              "  }\n",
              "\n",
              "  [theme=dark] .colab-df-quickchart {\n",
              "    background-color: #3B4455;\n",
              "    fill: #D2E3FC;\n",
              "  }\n",
              "\n",
              "  [theme=dark] .colab-df-quickchart:hover {\n",
              "    background-color: #434B5C;\n",
              "    box-shadow: 0px 1px 3px 1px rgba(0, 0, 0, 0.15);\n",
              "    filter: drop-shadow(0px 1px 2px rgba(0, 0, 0, 0.3));\n",
              "    fill: #FFFFFF;\n",
              "  }\n",
              "</style>\n",
              "\n",
              "    <script>\n",
              "      async function quickchart(key) {\n",
              "        const containerElement = document.querySelector('#' + key);\n",
              "        const charts = await google.colab.kernel.invokeFunction(\n",
              "            'suggestCharts', [key], {});\n",
              "      }\n",
              "    </script>\n",
              "\n",
              "      <script>\n",
              "\n",
              "function displayQuickchartButton(domScope) {\n",
              "  let quickchartButtonEl =\n",
              "    domScope.querySelector('#df-3910215a-16d9-4547-a971-d06997816a44 button.colab-df-quickchart');\n",
              "  quickchartButtonEl.style.display =\n",
              "    google.colab.kernel.accessAllowed ? 'block' : 'none';\n",
              "}\n",
              "\n",
              "        displayQuickchartButton(document);\n",
              "      </script>\n",
              "      <style>\n",
              "    .colab-df-container {\n",
              "      display:flex;\n",
              "      flex-wrap:wrap;\n",
              "      gap: 12px;\n",
              "    }\n",
              "\n",
              "    .colab-df-convert {\n",
              "      background-color: #E8F0FE;\n",
              "      border: none;\n",
              "      border-radius: 50%;\n",
              "      cursor: pointer;\n",
              "      display: none;\n",
              "      fill: #1967D2;\n",
              "      height: 32px;\n",
              "      padding: 0 0 0 0;\n",
              "      width: 32px;\n",
              "    }\n",
              "\n",
              "    .colab-df-convert:hover {\n",
              "      background-color: #E2EBFA;\n",
              "      box-shadow: 0px 1px 2px rgba(60, 64, 67, 0.3), 0px 1px 3px 1px rgba(60, 64, 67, 0.15);\n",
              "      fill: #174EA6;\n",
              "    }\n",
              "\n",
              "    [theme=dark] .colab-df-convert {\n",
              "      background-color: #3B4455;\n",
              "      fill: #D2E3FC;\n",
              "    }\n",
              "\n",
              "    [theme=dark] .colab-df-convert:hover {\n",
              "      background-color: #434B5C;\n",
              "      box-shadow: 0px 1px 3px 1px rgba(0, 0, 0, 0.15);\n",
              "      filter: drop-shadow(0px 1px 2px rgba(0, 0, 0, 0.3));\n",
              "      fill: #FFFFFF;\n",
              "    }\n",
              "  </style>\n",
              "\n",
              "      <script>\n",
              "        const buttonEl =\n",
              "          document.querySelector('#df-7c0749a4-a5f9-4f45-b29e-2b85ccf3ce11 button.colab-df-convert');\n",
              "        buttonEl.style.display =\n",
              "          google.colab.kernel.accessAllowed ? 'block' : 'none';\n",
              "\n",
              "        async function convertToInteractive(key) {\n",
              "          const element = document.querySelector('#df-7c0749a4-a5f9-4f45-b29e-2b85ccf3ce11');\n",
              "          const dataTable =\n",
              "            await google.colab.kernel.invokeFunction('convertToInteractive',\n",
              "                                                     [key], {});\n",
              "          if (!dataTable) return;\n",
              "\n",
              "          const docLinkHtml = 'Like what you see? Visit the ' +\n",
              "            '<a target=\"_blank\" href=https://colab.research.google.com/notebooks/data_table.ipynb>data table notebook</a>'\n",
              "            + ' to learn more about interactive tables.';\n",
              "          element.innerHTML = '';\n",
              "          dataTable['output_type'] = 'display_data';\n",
              "          await google.colab.output.renderOutput(dataTable, element);\n",
              "          const docLink = document.createElement('div');\n",
              "          docLink.innerHTML = docLinkHtml;\n",
              "          element.appendChild(docLink);\n",
              "        }\n",
              "      </script>\n",
              "    </div>\n",
              "  </div>\n"
            ]
          },
          "metadata": {},
          "execution_count": 149
        }
      ]
    },
    {
      "cell_type": "code",
      "source": [
        "from sklearn.preprocessing import LabelEncoder"
      ],
      "metadata": {
        "id": "UceISe7zg2Ul"
      },
      "execution_count": null,
      "outputs": []
    },
    {
      "cell_type": "code",
      "source": [
        "le=LabelEncoder()"
      ],
      "metadata": {
        "id": "r7Owm8Urg-kd"
      },
      "execution_count": null,
      "outputs": []
    },
    {
      "cell_type": "code",
      "source": [
        "x=x.apply(le.fit_transform)"
      ],
      "metadata": {
        "id": "Qk8KPrcVhDLP"
      },
      "execution_count": null,
      "outputs": []
    },
    {
      "cell_type": "code",
      "source": [
        "from sklearn.model_selection import train_test_split"
      ],
      "metadata": {
        "id": "Va4EkMeTe4X-"
      },
      "execution_count": null,
      "outputs": []
    },
    {
      "cell_type": "code",
      "source": [
        "x_train,x_test,y_train,y_test= train_test_split(x,y,test_size=0.2)"
      ],
      "metadata": {
        "id": "aCIbdjvJcRis"
      },
      "execution_count": null,
      "outputs": []
    },
    {
      "cell_type": "code",
      "source": [
        "x_train.shape"
      ],
      "metadata": {
        "id": "6bYxtwfVFktx",
        "colab": {
          "base_uri": "https://localhost:8080/"
        },
        "outputId": "34f0e7fa-a124-466f-aec3-f8d4270f8ce1"
      },
      "execution_count": null,
      "outputs": [
        {
          "output_type": "execute_result",
          "data": {
            "text/plain": [
              "(12336, 32)"
            ]
          },
          "metadata": {},
          "execution_count": 23
        }
      ]
    },
    {
      "cell_type": "code",
      "source": [
        "y_train.shape"
      ],
      "metadata": {
        "colab": {
          "base_uri": "https://localhost:8080/"
        },
        "id": "zTtZyPI7fA6X",
        "outputId": "60b39a11-c708-4b0a-9994-420dae622b83"
      },
      "execution_count": null,
      "outputs": [
        {
          "output_type": "execute_result",
          "data": {
            "text/plain": [
              "(12336,)"
            ]
          },
          "metadata": {},
          "execution_count": 24
        }
      ]
    },
    {
      "cell_type": "code",
      "source": [
        "x_test.shape"
      ],
      "metadata": {
        "colab": {
          "base_uri": "https://localhost:8080/"
        },
        "id": "MYL6D7JSfCm0",
        "outputId": "8845b660-1648-42b3-c2e5-d29c438abcc9"
      },
      "execution_count": null,
      "outputs": [
        {
          "output_type": "execute_result",
          "data": {
            "text/plain": [
              "(3084, 32)"
            ]
          },
          "metadata": {},
          "execution_count": 25
        }
      ]
    },
    {
      "cell_type": "code",
      "source": [
        "y_test.shape"
      ],
      "metadata": {
        "colab": {
          "base_uri": "https://localhost:8080/"
        },
        "id": "k-fl45fYfEjX",
        "outputId": "2cab1b2e-8636-43fe-86d8-631abceba5b1"
      },
      "execution_count": null,
      "outputs": [
        {
          "output_type": "execute_result",
          "data": {
            "text/plain": [
              "(3084,)"
            ]
          },
          "metadata": {},
          "execution_count": 26
        }
      ]
    },
    {
      "cell_type": "code",
      "source": [
        "from sklearn.ensemble import RandomForestClassifier"
      ],
      "metadata": {
        "id": "iXNacacPfGzQ"
      },
      "execution_count": null,
      "outputs": []
    },
    {
      "cell_type": "code",
      "source": [
        "rfc=RandomForestClassifier(n_estimators=100)"
      ],
      "metadata": {
        "id": "bREPsdP_fXFK"
      },
      "execution_count": null,
      "outputs": []
    },
    {
      "cell_type": "code",
      "source": [
        "rfc.fit(x_train,y_train)"
      ],
      "metadata": {
        "colab": {
          "base_uri": "https://localhost:8080/",
          "height": 75
        },
        "id": "ef5ySrf6fl_t",
        "outputId": "3b25e415-6a48-4d2b-f280-8f3280de0c29"
      },
      "execution_count": null,
      "outputs": [
        {
          "output_type": "execute_result",
          "data": {
            "text/plain": [
              "RandomForestClassifier()"
            ],
            "text/html": [
              "<style>#sk-container-id-1 {color: black;background-color: white;}#sk-container-id-1 pre{padding: 0;}#sk-container-id-1 div.sk-toggleable {background-color: white;}#sk-container-id-1 label.sk-toggleable__label {cursor: pointer;display: block;width: 100%;margin-bottom: 0;padding: 0.3em;box-sizing: border-box;text-align: center;}#sk-container-id-1 label.sk-toggleable__label-arrow:before {content: \"▸\";float: left;margin-right: 0.25em;color: #696969;}#sk-container-id-1 label.sk-toggleable__label-arrow:hover:before {color: black;}#sk-container-id-1 div.sk-estimator:hover label.sk-toggleable__label-arrow:before {color: black;}#sk-container-id-1 div.sk-toggleable__content {max-height: 0;max-width: 0;overflow: hidden;text-align: left;background-color: #f0f8ff;}#sk-container-id-1 div.sk-toggleable__content pre {margin: 0.2em;color: black;border-radius: 0.25em;background-color: #f0f8ff;}#sk-container-id-1 input.sk-toggleable__control:checked~div.sk-toggleable__content {max-height: 200px;max-width: 100%;overflow: auto;}#sk-container-id-1 input.sk-toggleable__control:checked~label.sk-toggleable__label-arrow:before {content: \"▾\";}#sk-container-id-1 div.sk-estimator input.sk-toggleable__control:checked~label.sk-toggleable__label {background-color: #d4ebff;}#sk-container-id-1 div.sk-label input.sk-toggleable__control:checked~label.sk-toggleable__label {background-color: #d4ebff;}#sk-container-id-1 input.sk-hidden--visually {border: 0;clip: rect(1px 1px 1px 1px);clip: rect(1px, 1px, 1px, 1px);height: 1px;margin: -1px;overflow: hidden;padding: 0;position: absolute;width: 1px;}#sk-container-id-1 div.sk-estimator {font-family: monospace;background-color: #f0f8ff;border: 1px dotted black;border-radius: 0.25em;box-sizing: border-box;margin-bottom: 0.5em;}#sk-container-id-1 div.sk-estimator:hover {background-color: #d4ebff;}#sk-container-id-1 div.sk-parallel-item::after {content: \"\";width: 100%;border-bottom: 1px solid gray;flex-grow: 1;}#sk-container-id-1 div.sk-label:hover label.sk-toggleable__label {background-color: #d4ebff;}#sk-container-id-1 div.sk-serial::before {content: \"\";position: absolute;border-left: 1px solid gray;box-sizing: border-box;top: 0;bottom: 0;left: 50%;z-index: 0;}#sk-container-id-1 div.sk-serial {display: flex;flex-direction: column;align-items: center;background-color: white;padding-right: 0.2em;padding-left: 0.2em;position: relative;}#sk-container-id-1 div.sk-item {position: relative;z-index: 1;}#sk-container-id-1 div.sk-parallel {display: flex;align-items: stretch;justify-content: center;background-color: white;position: relative;}#sk-container-id-1 div.sk-item::before, #sk-container-id-1 div.sk-parallel-item::before {content: \"\";position: absolute;border-left: 1px solid gray;box-sizing: border-box;top: 0;bottom: 0;left: 50%;z-index: -1;}#sk-container-id-1 div.sk-parallel-item {display: flex;flex-direction: column;z-index: 1;position: relative;background-color: white;}#sk-container-id-1 div.sk-parallel-item:first-child::after {align-self: flex-end;width: 50%;}#sk-container-id-1 div.sk-parallel-item:last-child::after {align-self: flex-start;width: 50%;}#sk-container-id-1 div.sk-parallel-item:only-child::after {width: 0;}#sk-container-id-1 div.sk-dashed-wrapped {border: 1px dashed gray;margin: 0 0.4em 0.5em 0.4em;box-sizing: border-box;padding-bottom: 0.4em;background-color: white;}#sk-container-id-1 div.sk-label label {font-family: monospace;font-weight: bold;display: inline-block;line-height: 1.2em;}#sk-container-id-1 div.sk-label-container {text-align: center;}#sk-container-id-1 div.sk-container {/* jupyter's `normalize.less` sets `[hidden] { display: none; }` but bootstrap.min.css set `[hidden] { display: none !important; }` so we also need the `!important` here to be able to override the default hidden behavior on the sphinx rendered scikit-learn.org. See: https://github.com/scikit-learn/scikit-learn/issues/21755 */display: inline-block !important;position: relative;}#sk-container-id-1 div.sk-text-repr-fallback {display: none;}</style><div id=\"sk-container-id-1\" class=\"sk-top-container\"><div class=\"sk-text-repr-fallback\"><pre>RandomForestClassifier()</pre><b>In a Jupyter environment, please rerun this cell to show the HTML representation or trust the notebook. <br />On GitHub, the HTML representation is unable to render, please try loading this page with nbviewer.org.</b></div><div class=\"sk-container\" hidden><div class=\"sk-item\"><div class=\"sk-estimator sk-toggleable\"><input class=\"sk-toggleable__control sk-hidden--visually\" id=\"sk-estimator-id-1\" type=\"checkbox\" checked><label for=\"sk-estimator-id-1\" class=\"sk-toggleable__label sk-toggleable__label-arrow\">RandomForestClassifier</label><div class=\"sk-toggleable__content\"><pre>RandomForestClassifier()</pre></div></div></div></div></div>"
            ]
          },
          "metadata": {},
          "execution_count": 29
        }
      ]
    },
    {
      "cell_type": "code",
      "source": [
        "rfc.score(x_test,y_test)"
      ],
      "metadata": {
        "colab": {
          "base_uri": "https://localhost:8080/"
        },
        "id": "sAJzZpZ8f4QM",
        "outputId": "3952c140-04bd-44d1-af96-861a173a19ec"
      },
      "execution_count": null,
      "outputs": [
        {
          "output_type": "execute_result",
          "data": {
            "text/plain": [
              "0.9383916990920882"
            ]
          },
          "metadata": {},
          "execution_count": 30
        }
      ]
    },
    {
      "cell_type": "code",
      "source": [
        "rfc.score(x_train,y_train)"
      ],
      "metadata": {
        "colab": {
          "base_uri": "https://localhost:8080/"
        },
        "id": "liVxXL5Vf4N3",
        "outputId": "37e14d21-0ad6-44dd-b98c-684cf665529e"
      },
      "execution_count": null,
      "outputs": [
        {
          "output_type": "execute_result",
          "data": {
            "text/plain": [
              "1.0"
            ]
          },
          "metadata": {},
          "execution_count": 31
        }
      ]
    },
    {
      "cell_type": "markdown",
      "source": [
        "Boosting"
      ],
      "metadata": {
        "id": "_UPm3wEJgCM9"
      }
    },
    {
      "cell_type": "code",
      "source": [
        "from sklearn.ensemble import GradientBoostingClassifier"
      ],
      "metadata": {
        "id": "hmMwi_Xtf4Kw"
      },
      "execution_count": null,
      "outputs": []
    },
    {
      "cell_type": "code",
      "source": [
        "gbdt=GradientBoostingClassifier(n_estimators=300)"
      ],
      "metadata": {
        "id": "lDHYgflrf4Hn"
      },
      "execution_count": null,
      "outputs": []
    },
    {
      "cell_type": "code",
      "source": [
        "y_train.shape"
      ],
      "metadata": {
        "colab": {
          "base_uri": "https://localhost:8080/"
        },
        "id": "Jni2SdLBoGkg",
        "outputId": "71c57950-9117-4e23-8154-6871c259ecc0"
      },
      "execution_count": null,
      "outputs": [
        {
          "output_type": "execute_result",
          "data": {
            "text/plain": [
              "(12336,)"
            ]
          },
          "metadata": {},
          "execution_count": 34
        }
      ]
    },
    {
      "cell_type": "code",
      "source": [
        "x_train.shape"
      ],
      "metadata": {
        "colab": {
          "base_uri": "https://localhost:8080/"
        },
        "id": "Jy61Y4E_pmNb",
        "outputId": "7fe909e5-9547-46f8-b82a-ef72ab99fe47"
      },
      "execution_count": null,
      "outputs": [
        {
          "output_type": "execute_result",
          "data": {
            "text/plain": [
              "(12336, 32)"
            ]
          },
          "metadata": {},
          "execution_count": 35
        }
      ]
    },
    {
      "cell_type": "code",
      "source": [
        "gbdt.fit(x_train,y_train)"
      ],
      "metadata": {
        "colab": {
          "base_uri": "https://localhost:8080/",
          "height": 75
        },
        "id": "pOJuYCApf4D-",
        "outputId": "1dea0eb4-dd17-450a-c9b6-267688fa1db3"
      },
      "execution_count": null,
      "outputs": [
        {
          "output_type": "execute_result",
          "data": {
            "text/plain": [
              "GradientBoostingClassifier(n_estimators=300)"
            ],
            "text/html": [
              "<style>#sk-container-id-2 {color: black;background-color: white;}#sk-container-id-2 pre{padding: 0;}#sk-container-id-2 div.sk-toggleable {background-color: white;}#sk-container-id-2 label.sk-toggleable__label {cursor: pointer;display: block;width: 100%;margin-bottom: 0;padding: 0.3em;box-sizing: border-box;text-align: center;}#sk-container-id-2 label.sk-toggleable__label-arrow:before {content: \"▸\";float: left;margin-right: 0.25em;color: #696969;}#sk-container-id-2 label.sk-toggleable__label-arrow:hover:before {color: black;}#sk-container-id-2 div.sk-estimator:hover label.sk-toggleable__label-arrow:before {color: black;}#sk-container-id-2 div.sk-toggleable__content {max-height: 0;max-width: 0;overflow: hidden;text-align: left;background-color: #f0f8ff;}#sk-container-id-2 div.sk-toggleable__content pre {margin: 0.2em;color: black;border-radius: 0.25em;background-color: #f0f8ff;}#sk-container-id-2 input.sk-toggleable__control:checked~div.sk-toggleable__content {max-height: 200px;max-width: 100%;overflow: auto;}#sk-container-id-2 input.sk-toggleable__control:checked~label.sk-toggleable__label-arrow:before {content: \"▾\";}#sk-container-id-2 div.sk-estimator input.sk-toggleable__control:checked~label.sk-toggleable__label {background-color: #d4ebff;}#sk-container-id-2 div.sk-label input.sk-toggleable__control:checked~label.sk-toggleable__label {background-color: #d4ebff;}#sk-container-id-2 input.sk-hidden--visually {border: 0;clip: rect(1px 1px 1px 1px);clip: rect(1px, 1px, 1px, 1px);height: 1px;margin: -1px;overflow: hidden;padding: 0;position: absolute;width: 1px;}#sk-container-id-2 div.sk-estimator {font-family: monospace;background-color: #f0f8ff;border: 1px dotted black;border-radius: 0.25em;box-sizing: border-box;margin-bottom: 0.5em;}#sk-container-id-2 div.sk-estimator:hover {background-color: #d4ebff;}#sk-container-id-2 div.sk-parallel-item::after {content: \"\";width: 100%;border-bottom: 1px solid gray;flex-grow: 1;}#sk-container-id-2 div.sk-label:hover label.sk-toggleable__label {background-color: #d4ebff;}#sk-container-id-2 div.sk-serial::before {content: \"\";position: absolute;border-left: 1px solid gray;box-sizing: border-box;top: 0;bottom: 0;left: 50%;z-index: 0;}#sk-container-id-2 div.sk-serial {display: flex;flex-direction: column;align-items: center;background-color: white;padding-right: 0.2em;padding-left: 0.2em;position: relative;}#sk-container-id-2 div.sk-item {position: relative;z-index: 1;}#sk-container-id-2 div.sk-parallel {display: flex;align-items: stretch;justify-content: center;background-color: white;position: relative;}#sk-container-id-2 div.sk-item::before, #sk-container-id-2 div.sk-parallel-item::before {content: \"\";position: absolute;border-left: 1px solid gray;box-sizing: border-box;top: 0;bottom: 0;left: 50%;z-index: -1;}#sk-container-id-2 div.sk-parallel-item {display: flex;flex-direction: column;z-index: 1;position: relative;background-color: white;}#sk-container-id-2 div.sk-parallel-item:first-child::after {align-self: flex-end;width: 50%;}#sk-container-id-2 div.sk-parallel-item:last-child::after {align-self: flex-start;width: 50%;}#sk-container-id-2 div.sk-parallel-item:only-child::after {width: 0;}#sk-container-id-2 div.sk-dashed-wrapped {border: 1px dashed gray;margin: 0 0.4em 0.5em 0.4em;box-sizing: border-box;padding-bottom: 0.4em;background-color: white;}#sk-container-id-2 div.sk-label label {font-family: monospace;font-weight: bold;display: inline-block;line-height: 1.2em;}#sk-container-id-2 div.sk-label-container {text-align: center;}#sk-container-id-2 div.sk-container {/* jupyter's `normalize.less` sets `[hidden] { display: none; }` but bootstrap.min.css set `[hidden] { display: none !important; }` so we also need the `!important` here to be able to override the default hidden behavior on the sphinx rendered scikit-learn.org. See: https://github.com/scikit-learn/scikit-learn/issues/21755 */display: inline-block !important;position: relative;}#sk-container-id-2 div.sk-text-repr-fallback {display: none;}</style><div id=\"sk-container-id-2\" class=\"sk-top-container\"><div class=\"sk-text-repr-fallback\"><pre>GradientBoostingClassifier(n_estimators=300)</pre><b>In a Jupyter environment, please rerun this cell to show the HTML representation or trust the notebook. <br />On GitHub, the HTML representation is unable to render, please try loading this page with nbviewer.org.</b></div><div class=\"sk-container\" hidden><div class=\"sk-item\"><div class=\"sk-estimator sk-toggleable\"><input class=\"sk-toggleable__control sk-hidden--visually\" id=\"sk-estimator-id-2\" type=\"checkbox\" checked><label for=\"sk-estimator-id-2\" class=\"sk-toggleable__label sk-toggleable__label-arrow\">GradientBoostingClassifier</label><div class=\"sk-toggleable__content\"><pre>GradientBoostingClassifier(n_estimators=300)</pre></div></div></div></div></div>"
            ]
          },
          "metadata": {},
          "execution_count": 36
        }
      ]
    },
    {
      "cell_type": "code",
      "source": [
        "y_test.shape"
      ],
      "metadata": {
        "colab": {
          "base_uri": "https://localhost:8080/"
        },
        "id": "9MlYeCmnqWbk",
        "outputId": "de09fed2-0445-4b69-9c93-98c529e4c9dd"
      },
      "execution_count": null,
      "outputs": [
        {
          "output_type": "execute_result",
          "data": {
            "text/plain": [
              "(3084,)"
            ]
          },
          "metadata": {},
          "execution_count": 173
        }
      ]
    },
    {
      "cell_type": "code",
      "source": [
        "gbdt.score(x_test,y_test)"
      ],
      "metadata": {
        "colab": {
          "base_uri": "https://localhost:8080/"
        },
        "id": "zruc5A06gazo",
        "outputId": "63fd4b32-906f-4f0c-9ba7-90e9e511edc0"
      },
      "execution_count": null,
      "outputs": [
        {
          "output_type": "execute_result",
          "data": {
            "text/plain": [
              "0.9439040207522698"
            ]
          },
          "metadata": {},
          "execution_count": 174
        }
      ]
    },
    {
      "cell_type": "code",
      "source": [
        "gbdt.score(x_train,y_train)"
      ],
      "metadata": {
        "colab": {
          "base_uri": "https://localhost:8080/"
        },
        "id": "SnS9dadNgawQ",
        "outputId": "da79f7a1-a9aa-4f13-fdbd-d4ea072dc039"
      },
      "execution_count": null,
      "outputs": [
        {
          "output_type": "execute_result",
          "data": {
            "text/plain": [
              "0.9546854734111544"
            ]
          },
          "metadata": {},
          "execution_count": 175
        }
      ]
    },
    {
      "cell_type": "markdown",
      "source": [
        "Decision Trees\n"
      ],
      "metadata": {
        "id": "MRU6q95Cx4uq"
      }
    },
    {
      "cell_type": "code",
      "source": [
        "# finding the model accuracy by using decision trees\n",
        "from sklearn.tree import DecisionTreeClassifier\n",
        "dt = DecisionTreeClassifier()\n",
        "dt.fit(x_train, y_train)\n",
        "print(\"Decision tree accuracy:\", dt.score(x_test, y_test))"
      ],
      "metadata": {
        "colab": {
          "base_uri": "https://localhost:8080/"
        },
        "id": "3jS0Hyc9JieT",
        "outputId": "73a87ebd-17c4-47f2-906b-274477267c2c"
      },
      "execution_count": null,
      "outputs": [
        {
          "output_type": "stream",
          "name": "stdout",
          "text": [
            "Decision tree accuracy: 0.9111543450064851\n"
          ]
        }
      ]
    },
    {
      "cell_type": "markdown",
      "source": [
        "KNN\n"
      ],
      "metadata": {
        "id": "JXQJSK6tyWeO"
      }
    },
    {
      "cell_type": "code",
      "source": [
        "# finding the model accuracy by using KNN technique\n",
        "from sklearn.neighbors import KNeighborsClassifier\n",
        "knn = KNeighborsClassifier(n_neighbors=5)\n",
        "knn.fit(x_train, y_train)\n",
        "print(\"KNN accuracy:\", knn.score(x_test, y_test))"
      ],
      "metadata": {
        "colab": {
          "base_uri": "https://localhost:8080/"
        },
        "id": "l3TJ2JWXJjLB",
        "outputId": "d62dc859-a582-4bcd-c32d-95b56eddecc3"
      },
      "execution_count": null,
      "outputs": [
        {
          "output_type": "stream",
          "name": "stdout",
          "text": [
            "KNN accuracy: 0.9335278858625162\n"
          ]
        }
      ]
    },
    {
      "cell_type": "code",
      "source": [],
      "metadata": {
        "id": "7TLAeUxrJjaq"
      },
      "execution_count": null,
      "outputs": []
    }
  ]
}